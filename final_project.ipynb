{
  "cells": [
    {
      "cell_type": "markdown",
      "metadata": {
        "id": "view-in-github",
        "colab_type": "text"
      },
      "source": [
        "<a href=\"https://colab.research.google.com/github/Elazarbsh/DL-Final-Project/blob/main/final_project.ipynb\" target=\"_parent\"><img src=\"https://colab.research.google.com/assets/colab-badge.svg\" alt=\"Open In Colab\"/></a>"
      ]
    },
    {
      "cell_type": "markdown",
      "source": [
        "# Imports\n"
      ],
      "metadata": {
        "id": "9K1ENJ526qdz"
      }
    },
    {
      "cell_type": "code",
      "execution_count": 16,
      "metadata": {
        "id": "kF7Epo_gNzUg"
      },
      "outputs": [],
      "source": [
        "import os\n",
        "import cv2\n",
        "import numpy as np\n",
        "import tensorflow as tf\n",
        "import itertools\n",
        "\n",
        "import keras\n",
        "from keras.datasets import cifar10\n",
        "from keras.models import Sequential\n",
        "from keras.layers import Dense, Activation, Dropout, Conv2D, MaxPool2D, Flatten, MaxPooling2D\n",
        "from tensorflow.keras.optimizers import Adam, SGD\n",
        "\n",
        "\n",
        "from IPython.display import display\n",
        "from keras.preprocessing.image import array_to_img\n",
        "from keras.callbacks import TensorBoard\n",
        "\n",
        "from time import strftime\n",
        "\n",
        "from sklearn.metrics import confusion_matrix\n",
        "from sklearn.model_selection import train_test_split\n",
        "\n",
        "import matplotlib.pyplot as plt"
      ]
    },
    {
      "cell_type": "markdown",
      "source": [
        "# Constants"
      ],
      "metadata": {
        "id": "eE6VjAad61UU"
      }
    },
    {
      "cell_type": "markdown",
      "source": [
        "set the label names, the size and shape of the input and the size of the validation set."
      ],
      "metadata": {
        "id": "9UffWTdJfBLo"
      }
    },
    {
      "cell_type": "code",
      "execution_count": 2,
      "metadata": {
        "id": "NYx-zLPzNzUh"
      },
      "outputs": [],
      "source": [
        "LOG_DIR = 'tensorboard_cifar_logs/'\n",
        "\n",
        "DICT = {\n",
        "    'hotdog': 0,\n",
        "    'hamburger': 1,\n",
        "    'pizza': 2\n",
        "}\n",
        "\n",
        "LABEL_NAMES = ['Hotdog', 'Hamburger', 'Pizza']\n",
        "IMAGE_WIDTH = 128\n",
        "IMAGE_HEIGHT = 128\n",
        "IMAGE_PIXELS = IMAGE_WIDTH * IMAGE_HEIGHT\n",
        "COLOR_CHANNELS = 3\n",
        "TOTAL_INPUTS = IMAGE_PIXELS * COLOR_CHANNELS\n",
        "NR_CLASSES = 3\n",
        "\n",
        "VALIDATION_SIZE = 100\n"
      ]
    },
    {
      "cell_type": "markdown",
      "source": [
        "# Download the dataset"
      ],
      "metadata": {
        "id": "jB9NDzLg7h47"
      }
    },
    {
      "cell_type": "code",
      "source": [
        "!gdown https://drive.google.com/uc?id=1QiWB25GQ0-CPnkRYXKNibNEUwpajZYR1 -O dataset.zip\n"
      ],
      "metadata": {
        "colab": {
          "base_uri": "https://localhost:8080/"
        },
        "id": "waY3-vlIxNzL",
        "outputId": "13ae5837-a593-4299-84ae-f8a7d1342278"
      },
      "execution_count": 11,
      "outputs": [
        {
          "output_type": "stream",
          "name": "stdout",
          "text": [
            "Downloading...\n",
            "From: https://drive.google.com/uc?id=1QiWB25GQ0-CPnkRYXKNibNEUwpajZYR1\n",
            "To: /content/dataset.zip\n",
            "100% 446M/446M [00:04<00:00, 111MB/s]\n"
          ]
        }
      ]
    },
    {
      "cell_type": "code",
      "source": [
        "!unzip dataset.zip -d .\n"
      ],
      "metadata": {
        "id": "cdR29xFG6IcV"
      },
      "execution_count": null,
      "outputs": []
    },
    {
      "cell_type": "code",
      "execution_count": null,
      "metadata": {
        "id": "KtcB9XM8NzUc"
      },
      "outputs": [],
      "source": [
        "#!unzip drive/MyDrive/dataset.zip -d .\n"
      ]
    },
    {
      "cell_type": "markdown",
      "source": [
        "# Load Data"
      ],
      "metadata": {
        "id": "NA60tcET8Z4n"
      }
    },
    {
      "cell_type": "markdown",
      "source": [
        "load the training and testing sets into the corresponding classes and resizing the images."
      ],
      "metadata": {
        "id": "DEr1SciXgSdz"
      }
    },
    {
      "cell_type": "code",
      "execution_count": null,
      "metadata": {
        "id": "ub7Eq2zDNzUj"
      },
      "outputs": [],
      "source": [
        "# Load data\n",
        "def load_data(data_type='train', class_name='hot_dog'):\n",
        "  instances = []\n",
        "  classes = []\n",
        "  for filepath in os.listdir(f'{data_type}/{class_name}'):\n",
        "    read_image = cv2.imread(f'{data_type}/{class_name}/{format(filepath)}', 1)\n",
        "    read_image = cv2.cvtColor(read_image, cv2.COLOR_BGR2RGB)\n",
        "    resized_image = cv2.resize(read_image, (IMAGE_WIDTH, IMAGE_HEIGHT))\n",
        "\n",
        "    instances.append(resized_image)\n",
        "    classes.append(DICT[class_name])\n",
        "  return (instances, classes)"
      ]
    },
    {
      "cell_type": "code",
      "execution_count": null,
      "metadata": {
        "id": "jclplyKVNzUj"
      },
      "outputs": [],
      "source": [
        "# Load and merge training data\n",
        "X_train_hd, y_train_hd = load_data(data_type='train', class_name='hotdog')\n",
        "X_train_h, y_train_h = load_data(data_type='train', class_name='hamburger')\n",
        "X_train_p, y_train_p = load_data(data_type='train', class_name='pizza')\n",
        "\n",
        "X_train = np.array(X_train_hd + X_train_h + X_train_p)\n",
        "y_train = np.array(y_train_hd + y_train_h + y_train_p)\n",
        "\n",
        "# Load and merge testing data\n",
        "X_test_hd, y_test_hd = load_data(data_type='test', class_name='hotdog')\n",
        "X_test_h, y_test_h = load_data(data_type='test', class_name='hamburger')\n",
        "X_test_p, y_test_p = load_data(data_type='test', class_name='pizza')\n",
        "\n",
        "X_test = np.array(X_test_hd + X_test_h + X_test_p)\n",
        "y_test = np.array(y_test_hd + y_test_h + y_test_p)"
      ]
    },
    {
      "cell_type": "markdown",
      "source": [
        "# Preprocess Data"
      ],
      "metadata": {
        "id": "Td3jVeu68iFG"
      }
    },
    {
      "cell_type": "markdown",
      "source": [
        "normalize every RGB value in each pixel."
      ],
      "metadata": {
        "id": "D_lneopggwQG"
      }
    },
    {
      "cell_type": "code",
      "execution_count": null,
      "metadata": {
        "id": "9EiOJd-rNzUm"
      },
      "outputs": [],
      "source": [
        "X_train, X_test = X_train / 255.0, X_test / 255.0"
      ]
    },
    {
      "cell_type": "markdown",
      "source": [
        "# Create validation dataset"
      ],
      "metadata": {
        "id": "YoTr_Pi38uOi"
      }
    },
    {
      "cell_type": "code",
      "execution_count": null,
      "metadata": {
        "colab": {
          "base_uri": "https://localhost:8080/"
        },
        "id": "OwbLO_-hNzUn",
        "outputId": "a8f7c602-8c68-4eaf-eea9-17607bb06ad9"
      },
      "outputs": [
        {
          "output_type": "stream",
          "name": "stdout",
          "text": [
            "(7097, 128, 128, 3)\n",
            "(374, 128, 128, 3)\n"
          ]
        }
      ],
      "source": [
        "# Split the data\n",
        "X_train, X_valid, y_train, y_valid = train_test_split(X_train, y_train, test_size=0.05, shuffle= True)\n",
        "print(X_train.shape)\n",
        "print(X_valid.shape)"
      ]
    },
    {
      "cell_type": "markdown",
      "source": [
        "# Define the neural network using keras"
      ],
      "metadata": {
        "id": "HC6OjNy281Qr"
      }
    },
    {
      "cell_type": "markdown",
      "source": [
        "this model worked best for us. view summary for details."
      ],
      "metadata": {
        "id": "pSEfTO6YhapB"
      }
    },
    {
      "cell_type": "code",
      "execution_count": null,
      "metadata": {
        "colab": {
          "base_uri": "https://localhost:8080/"
        },
        "id": "9nltHD3sNzUp",
        "outputId": "a6017781-21da-4d09-8c15-d22678b374d9"
      },
      "outputs": [
        {
          "output_type": "stream",
          "name": "stdout",
          "text": [
            "Model: \"sequential\"\n",
            "_________________________________________________________________\n",
            " Layer (type)                Output Shape              Param #   \n",
            "=================================================================\n",
            " conv2d (Conv2D)             (None, 128, 128, 128)     3584      \n",
            "                                                                 \n",
            " max_pooling2d (MaxPooling2D  (None, 64, 64, 128)      0         \n",
            " )                                                               \n",
            "                                                                 \n",
            " dropout (Dropout)           (None, 64, 64, 128)       0         \n",
            "                                                                 \n",
            " conv2d_1 (Conv2D)           (None, 64, 64, 64)        73792     \n",
            "                                                                 \n",
            " max_pooling2d_1 (MaxPooling  (None, 32, 32, 64)       0         \n",
            " 2D)                                                             \n",
            "                                                                 \n",
            " dropout_1 (Dropout)         (None, 32, 32, 64)        0         \n",
            "                                                                 \n",
            " conv2d_2 (Conv2D)           (None, 32, 32, 32)        18464     \n",
            "                                                                 \n",
            " max_pooling2d_2 (MaxPooling  (None, 16, 16, 32)       0         \n",
            " 2D)                                                             \n",
            "                                                                 \n",
            " dropout_2 (Dropout)         (None, 16, 16, 32)        0         \n",
            "                                                                 \n",
            " conv2d_3 (Conv2D)           (None, 16, 16, 16)        4624      \n",
            "                                                                 \n",
            " max_pooling2d_3 (MaxPooling  (None, 8, 8, 16)         0         \n",
            " 2D)                                                             \n",
            "                                                                 \n",
            " dropout_3 (Dropout)         (None, 8, 8, 16)          0         \n",
            "                                                                 \n",
            " flatten (Flatten)           (None, 1024)              0         \n",
            "                                                                 \n",
            " dense (Dense)               (None, 8)                 8200      \n",
            "                                                                 \n",
            " dense_1 (Dense)             (None, 3)                 27        \n",
            "                                                                 \n",
            "=================================================================\n",
            "Total params: 108,691\n",
            "Trainable params: 108,691\n",
            "Non-trainable params: 0\n",
            "_________________________________________________________________\n"
          ]
        }
      ],
      "source": [
        "model = Sequential()\n",
        "model.add(Conv2D(128,3,padding=\"same\", activation=\"relu\", input_shape=(128,128,3)))\n",
        "model.add(MaxPool2D())\n",
        "\n",
        "model.add(Dropout(0.5))\n",
        "model.add(Conv2D(64, 3, padding=\"same\", activation=\"relu\"))\n",
        "model.add(MaxPool2D())\n",
        "\n",
        "model.add(Dropout(0.5))\n",
        "model.add(Conv2D(32, 3, padding=\"same\", activation=\"relu\"))\n",
        "model.add(MaxPool2D())\n",
        "\n",
        "model.add(Dropout(0.5))\n",
        "model.add(Conv2D(16, 3, padding=\"same\", activation=\"relu\"))\n",
        "model.add(MaxPool2D())\n",
        "\n",
        "model.add(Dropout(0.4))\n",
        "model.add(Flatten())\n",
        "model.add(Dense(8,activation=\"relu\"))\n",
        "model.add(Dense(3, activation=\"softmax\"))\n",
        "\n",
        "model.summary()"
      ]
    },
    {
      "cell_type": "code",
      "execution_count": null,
      "metadata": {
        "colab": {
          "base_uri": "https://localhost:8080/"
        },
        "id": "boqAwnwMNzUq",
        "outputId": "44462a14-29a5-4bb9-a385-b04a3d3120c5"
      },
      "outputs": [
        {
          "output_type": "stream",
          "name": "stderr",
          "text": [
            "/usr/local/lib/python3.7/dist-packages/keras/optimizer_v2/adam.py:105: UserWarning: The `lr` argument is deprecated, use `learning_rate` instead.\n",
            "  super(Adam, self).__init__(name, **kwargs)\n"
          ]
        }
      ],
      "source": [
        "opt = Adam(lr=0.0001)\n",
        "model.compile(optimizer = opt , loss = tf.keras.losses.SparseCategoricalCrossentropy(from_logits=True) , metrics = ['accuracy'])"
      ]
    },
    {
      "cell_type": "markdown",
      "source": [
        "# Fit the model"
      ],
      "metadata": {
        "id": "eizmeDpO9Lpm"
      }
    },
    {
      "cell_type": "markdown",
      "source": [
        "the model is trained for 500 epochs with batch size of 64. early stopping is used to prevent overfitting."
      ],
      "metadata": {
        "id": "XLQ4jp-elhDF"
      }
    },
    {
      "cell_type": "code",
      "execution_count": null,
      "metadata": {
        "colab": {
          "base_uri": "https://localhost:8080/"
        },
        "id": "GkwR_934NzUq",
        "outputId": "3929dbe2-6e41-49e3-988c-831880f208ae"
      },
      "outputs": [
        {
          "output_type": "stream",
          "name": "stdout",
          "text": [
            "Epoch 1/500\n"
          ]
        },
        {
          "output_type": "stream",
          "name": "stderr",
          "text": [
            "/usr/local/lib/python3.7/dist-packages/tensorflow/python/util/dispatch.py:1082: UserWarning: \"`sparse_categorical_crossentropy` received `from_logits=True`, but the `output` argument was produced by a sigmoid or softmax activation and thus does not represent logits. Was this intended?\"\n",
            "  return dispatch_target(*args, **kwargs)\n"
          ]
        },
        {
          "output_type": "stream",
          "name": "stdout",
          "text": [
            "111/111 [==============================] - 24s 109ms/step - loss: 1.1375 - accuracy: 0.3669 - val_loss: 1.0951 - val_accuracy: 0.3770\n",
            "Epoch 2/500\n",
            "111/111 [==============================] - 10s 90ms/step - loss: 1.0661 - accuracy: 0.4172 - val_loss: 1.0885 - val_accuracy: 0.3663\n",
            "Epoch 3/500\n",
            "111/111 [==============================] - 10s 90ms/step - loss: 1.0517 - accuracy: 0.4310 - val_loss: 1.0888 - val_accuracy: 0.3717\n",
            "Epoch 4/500\n",
            "111/111 [==============================] - 10s 91ms/step - loss: 1.0335 - accuracy: 0.4544 - val_loss: 1.0694 - val_accuracy: 0.5187\n",
            "Epoch 5/500\n",
            "111/111 [==============================] - 10s 91ms/step - loss: 0.9803 - accuracy: 0.5184 - val_loss: 1.0186 - val_accuracy: 0.5588\n",
            "Epoch 6/500\n",
            "111/111 [==============================] - 10s 91ms/step - loss: 0.9340 - accuracy: 0.5494 - val_loss: 0.9739 - val_accuracy: 0.5374\n",
            "Epoch 7/500\n",
            "111/111 [==============================] - 10s 91ms/step - loss: 0.8913 - accuracy: 0.5732 - val_loss: 0.9619 - val_accuracy: 0.4866\n",
            "Epoch 8/500\n",
            "111/111 [==============================] - 10s 92ms/step - loss: 0.8475 - accuracy: 0.6000 - val_loss: 0.9296 - val_accuracy: 0.5267\n",
            "Epoch 9/500\n",
            "111/111 [==============================] - 10s 91ms/step - loss: 0.8282 - accuracy: 0.6114 - val_loss: 0.9214 - val_accuracy: 0.5321\n",
            "Epoch 10/500\n",
            "111/111 [==============================] - 10s 91ms/step - loss: 0.8269 - accuracy: 0.6129 - val_loss: 0.9101 - val_accuracy: 0.5481\n",
            "Epoch 11/500\n",
            "111/111 [==============================] - 10s 91ms/step - loss: 0.8055 - accuracy: 0.6169 - val_loss: 0.8962 - val_accuracy: 0.5722\n",
            "Epoch 12/500\n",
            "111/111 [==============================] - 10s 91ms/step - loss: 0.8080 - accuracy: 0.6218 - val_loss: 0.9197 - val_accuracy: 0.5321\n",
            "Epoch 13/500\n",
            "111/111 [==============================] - 10s 91ms/step - loss: 0.7903 - accuracy: 0.6280 - val_loss: 0.9100 - val_accuracy: 0.5401\n",
            "Epoch 14/500\n",
            "111/111 [==============================] - 10s 91ms/step - loss: 0.7911 - accuracy: 0.6290 - val_loss: 0.9058 - val_accuracy: 0.5374\n",
            "Epoch 15/500\n",
            "111/111 [==============================] - 10s 91ms/step - loss: 0.7849 - accuracy: 0.6339 - val_loss: 0.9000 - val_accuracy: 0.5455\n",
            "Epoch 16/500\n",
            "111/111 [==============================] - 10s 91ms/step - loss: 0.7779 - accuracy: 0.6428 - val_loss: 0.8669 - val_accuracy: 0.6203\n",
            "Epoch 17/500\n",
            "111/111 [==============================] - 10s 91ms/step - loss: 0.7651 - accuracy: 0.6518 - val_loss: 0.8701 - val_accuracy: 0.6176\n",
            "Epoch 18/500\n",
            "111/111 [==============================] - 10s 91ms/step - loss: 0.7560 - accuracy: 0.6601 - val_loss: 0.8896 - val_accuracy: 0.5642\n",
            "Epoch 19/500\n",
            "111/111 [==============================] - 10s 91ms/step - loss: 0.7502 - accuracy: 0.6596 - val_loss: 0.8595 - val_accuracy: 0.6283\n",
            "Epoch 20/500\n",
            "111/111 [==============================] - 10s 90ms/step - loss: 0.7635 - accuracy: 0.6558 - val_loss: 0.8609 - val_accuracy: 0.6711\n",
            "Epoch 21/500\n",
            "111/111 [==============================] - 10s 91ms/step - loss: 0.7484 - accuracy: 0.6584 - val_loss: 0.8570 - val_accuracy: 0.6390\n",
            "Epoch 22/500\n",
            "111/111 [==============================] - 10s 91ms/step - loss: 0.7278 - accuracy: 0.6725 - val_loss: 0.8557 - val_accuracy: 0.6872\n",
            "Epoch 23/500\n",
            "111/111 [==============================] - 10s 91ms/step - loss: 0.7179 - accuracy: 0.6831 - val_loss: 0.8266 - val_accuracy: 0.6791\n",
            "Epoch 24/500\n",
            "111/111 [==============================] - 10s 90ms/step - loss: 0.7136 - accuracy: 0.6873 - val_loss: 0.8195 - val_accuracy: 0.6979\n",
            "Epoch 25/500\n",
            "111/111 [==============================] - 10s 91ms/step - loss: 0.7080 - accuracy: 0.6868 - val_loss: 0.8164 - val_accuracy: 0.6925\n",
            "Epoch 26/500\n",
            "111/111 [==============================] - 10s 91ms/step - loss: 0.6937 - accuracy: 0.6948 - val_loss: 0.8057 - val_accuracy: 0.7005\n",
            "Epoch 27/500\n",
            "111/111 [==============================] - 10s 91ms/step - loss: 0.6935 - accuracy: 0.6971 - val_loss: 0.8010 - val_accuracy: 0.7139\n",
            "Epoch 28/500\n",
            "111/111 [==============================] - 10s 91ms/step - loss: 0.6841 - accuracy: 0.7028 - val_loss: 0.8000 - val_accuracy: 0.7219\n",
            "Epoch 29/500\n",
            "111/111 [==============================] - 10s 91ms/step - loss: 0.6772 - accuracy: 0.7069 - val_loss: 0.7886 - val_accuracy: 0.6898\n",
            "Epoch 30/500\n",
            "111/111 [==============================] - 10s 92ms/step - loss: 0.6719 - accuracy: 0.7104 - val_loss: 0.7649 - val_accuracy: 0.7219\n",
            "Epoch 31/500\n",
            "111/111 [==============================] - 10s 92ms/step - loss: 0.6625 - accuracy: 0.7159 - val_loss: 0.7669 - val_accuracy: 0.7219\n",
            "Epoch 32/500\n",
            "111/111 [==============================] - 10s 92ms/step - loss: 0.6626 - accuracy: 0.7164 - val_loss: 0.7685 - val_accuracy: 0.7273\n",
            "Epoch 33/500\n",
            "111/111 [==============================] - 10s 92ms/step - loss: 0.6594 - accuracy: 0.7151 - val_loss: 0.7446 - val_accuracy: 0.7513\n",
            "Epoch 34/500\n",
            "111/111 [==============================] - 10s 91ms/step - loss: 0.6445 - accuracy: 0.7250 - val_loss: 0.7265 - val_accuracy: 0.7487\n",
            "Epoch 35/500\n",
            "111/111 [==============================] - 10s 91ms/step - loss: 0.6398 - accuracy: 0.7257 - val_loss: 0.7326 - val_accuracy: 0.7487\n",
            "Epoch 36/500\n",
            "111/111 [==============================] - 10s 91ms/step - loss: 0.6274 - accuracy: 0.7374 - val_loss: 0.7259 - val_accuracy: 0.7567\n",
            "Epoch 37/500\n",
            "111/111 [==============================] - 10s 91ms/step - loss: 0.6284 - accuracy: 0.7337 - val_loss: 0.7072 - val_accuracy: 0.7647\n",
            "Epoch 38/500\n",
            "111/111 [==============================] - 10s 91ms/step - loss: 0.6250 - accuracy: 0.7285 - val_loss: 0.7391 - val_accuracy: 0.7299\n",
            "Epoch 39/500\n",
            "111/111 [==============================] - 10s 91ms/step - loss: 0.6277 - accuracy: 0.7379 - val_loss: 0.7481 - val_accuracy: 0.7353\n",
            "Epoch 40/500\n",
            "111/111 [==============================] - 10s 92ms/step - loss: 0.6198 - accuracy: 0.7462 - val_loss: 0.6914 - val_accuracy: 0.7807\n",
            "Epoch 41/500\n",
            "111/111 [==============================] - 10s 92ms/step - loss: 0.6121 - accuracy: 0.7462 - val_loss: 0.6855 - val_accuracy: 0.7781\n",
            "Epoch 42/500\n",
            "111/111 [==============================] - 10s 91ms/step - loss: 0.6106 - accuracy: 0.7417 - val_loss: 0.7010 - val_accuracy: 0.7727\n",
            "Epoch 43/500\n",
            "111/111 [==============================] - 10s 91ms/step - loss: 0.5934 - accuracy: 0.7507 - val_loss: 0.7007 - val_accuracy: 0.7727\n",
            "Epoch 44/500\n",
            "111/111 [==============================] - 10s 91ms/step - loss: 0.6041 - accuracy: 0.7552 - val_loss: 0.7000 - val_accuracy: 0.7727\n",
            "Epoch 45/500\n",
            "111/111 [==============================] - 10s 91ms/step - loss: 0.5970 - accuracy: 0.7498 - val_loss: 0.6605 - val_accuracy: 0.7888\n",
            "Epoch 46/500\n",
            "111/111 [==============================] - 10s 91ms/step - loss: 0.5922 - accuracy: 0.7574 - val_loss: 0.6842 - val_accuracy: 0.7727\n",
            "Epoch 47/500\n",
            "111/111 [==============================] - 10s 91ms/step - loss: 0.5886 - accuracy: 0.7569 - val_loss: 0.6555 - val_accuracy: 0.7914\n",
            "Epoch 48/500\n",
            "111/111 [==============================] - 10s 91ms/step - loss: 0.5984 - accuracy: 0.7481 - val_loss: 0.6746 - val_accuracy: 0.7807\n",
            "Epoch 49/500\n",
            "111/111 [==============================] - 10s 91ms/step - loss: 0.5855 - accuracy: 0.7557 - val_loss: 0.6564 - val_accuracy: 0.7834\n",
            "Epoch 50/500\n",
            "111/111 [==============================] - 10s 91ms/step - loss: 0.5738 - accuracy: 0.7589 - val_loss: 0.6437 - val_accuracy: 0.7888\n",
            "Epoch 51/500\n",
            "111/111 [==============================] - 10s 91ms/step - loss: 0.5761 - accuracy: 0.7602 - val_loss: 0.6334 - val_accuracy: 0.7914\n",
            "Epoch 52/500\n",
            "111/111 [==============================] - 10s 91ms/step - loss: 0.5684 - accuracy: 0.7664 - val_loss: 0.6563 - val_accuracy: 0.7888\n",
            "Epoch 53/500\n",
            "111/111 [==============================] - 10s 91ms/step - loss: 0.5613 - accuracy: 0.7692 - val_loss: 0.6288 - val_accuracy: 0.7941\n",
            "Epoch 54/500\n",
            "111/111 [==============================] - 10s 91ms/step - loss: 0.5667 - accuracy: 0.7698 - val_loss: 0.6426 - val_accuracy: 0.7807\n",
            "Epoch 55/500\n",
            "111/111 [==============================] - 10s 91ms/step - loss: 0.5691 - accuracy: 0.7657 - val_loss: 0.6444 - val_accuracy: 0.7941\n",
            "Epoch 56/500\n",
            "111/111 [==============================] - 10s 91ms/step - loss: 0.5517 - accuracy: 0.7769 - val_loss: 0.6536 - val_accuracy: 0.7914\n",
            "Epoch 57/500\n",
            "111/111 [==============================] - 10s 91ms/step - loss: 0.5568 - accuracy: 0.7750 - val_loss: 0.6247 - val_accuracy: 0.7888\n",
            "Epoch 58/500\n",
            "111/111 [==============================] - 10s 91ms/step - loss: 0.5502 - accuracy: 0.7754 - val_loss: 0.6197 - val_accuracy: 0.8048\n",
            "Epoch 59/500\n",
            "111/111 [==============================] - 10s 91ms/step - loss: 0.5494 - accuracy: 0.7792 - val_loss: 0.5977 - val_accuracy: 0.8075\n",
            "Epoch 60/500\n",
            "111/111 [==============================] - 10s 91ms/step - loss: 0.5448 - accuracy: 0.7791 - val_loss: 0.6228 - val_accuracy: 0.8048\n",
            "Epoch 61/500\n",
            "111/111 [==============================] - 10s 91ms/step - loss: 0.5424 - accuracy: 0.7812 - val_loss: 0.6127 - val_accuracy: 0.7968\n",
            "Epoch 62/500\n",
            "111/111 [==============================] - 10s 91ms/step - loss: 0.5403 - accuracy: 0.7823 - val_loss: 0.5993 - val_accuracy: 0.8021\n",
            "Epoch 63/500\n",
            "111/111 [==============================] - 10s 91ms/step - loss: 0.5363 - accuracy: 0.7874 - val_loss: 0.6149 - val_accuracy: 0.7941\n",
            "Epoch 64/500\n",
            "111/111 [==============================] - 10s 91ms/step - loss: 0.5337 - accuracy: 0.7822 - val_loss: 0.6031 - val_accuracy: 0.7995\n",
            "Epoch 65/500\n",
            "111/111 [==============================] - 10s 91ms/step - loss: 0.5319 - accuracy: 0.7916 - val_loss: 0.5948 - val_accuracy: 0.8128\n",
            "Epoch 66/500\n",
            "111/111 [==============================] - 10s 91ms/step - loss: 0.5275 - accuracy: 0.7861 - val_loss: 0.5805 - val_accuracy: 0.8342\n",
            "Epoch 67/500\n",
            "111/111 [==============================] - 10s 91ms/step - loss: 0.5245 - accuracy: 0.7874 - val_loss: 0.5944 - val_accuracy: 0.8128\n",
            "Epoch 68/500\n",
            "111/111 [==============================] - 10s 91ms/step - loss: 0.5214 - accuracy: 0.7874 - val_loss: 0.5775 - val_accuracy: 0.8021\n",
            "Epoch 69/500\n",
            "111/111 [==============================] - 10s 91ms/step - loss: 0.5281 - accuracy: 0.7867 - val_loss: 0.5836 - val_accuracy: 0.8155\n",
            "Epoch 70/500\n",
            "111/111 [==============================] - 10s 91ms/step - loss: 0.5229 - accuracy: 0.7903 - val_loss: 0.5683 - val_accuracy: 0.8209\n",
            "Epoch 71/500\n",
            "111/111 [==============================] - 10s 91ms/step - loss: 0.5134 - accuracy: 0.7912 - val_loss: 0.5803 - val_accuracy: 0.8128\n",
            "Epoch 72/500\n",
            "111/111 [==============================] - 10s 90ms/step - loss: 0.5131 - accuracy: 0.7930 - val_loss: 0.5514 - val_accuracy: 0.8316\n",
            "Epoch 73/500\n",
            "111/111 [==============================] - 10s 91ms/step - loss: 0.5128 - accuracy: 0.7958 - val_loss: 0.5766 - val_accuracy: 0.7995\n",
            "Epoch 74/500\n",
            "111/111 [==============================] - 10s 91ms/step - loss: 0.5180 - accuracy: 0.7915 - val_loss: 0.5845 - val_accuracy: 0.7941\n",
            "Epoch 75/500\n",
            "111/111 [==============================] - 10s 91ms/step - loss: 0.5093 - accuracy: 0.7989 - val_loss: 0.5595 - val_accuracy: 0.8075\n",
            "Epoch 76/500\n",
            "111/111 [==============================] - 10s 91ms/step - loss: 0.5135 - accuracy: 0.7975 - val_loss: 0.5685 - val_accuracy: 0.8048\n",
            "Epoch 77/500\n",
            "111/111 [==============================] - 10s 91ms/step - loss: 0.5091 - accuracy: 0.7972 - val_loss: 0.5558 - val_accuracy: 0.8289\n",
            "Epoch 78/500\n",
            "111/111 [==============================] - 10s 91ms/step - loss: 0.5169 - accuracy: 0.7943 - val_loss: 0.5601 - val_accuracy: 0.8155\n",
            "Epoch 79/500\n",
            "111/111 [==============================] - 10s 91ms/step - loss: 0.5063 - accuracy: 0.7909 - val_loss: 0.5516 - val_accuracy: 0.8209\n",
            "Epoch 80/500\n",
            "111/111 [==============================] - 10s 91ms/step - loss: 0.4918 - accuracy: 0.8058 - val_loss: 0.5529 - val_accuracy: 0.8316\n",
            "Epoch 81/500\n",
            "111/111 [==============================] - 10s 91ms/step - loss: 0.5035 - accuracy: 0.7999 - val_loss: 0.5676 - val_accuracy: 0.8048\n",
            "Epoch 82/500\n",
            "111/111 [==============================] - 10s 91ms/step - loss: 0.5038 - accuracy: 0.7970 - val_loss: 0.5350 - val_accuracy: 0.8289\n",
            "Epoch 83/500\n",
            "111/111 [==============================] - 10s 91ms/step - loss: 0.4997 - accuracy: 0.8036 - val_loss: 0.5367 - val_accuracy: 0.8289\n",
            "Epoch 84/500\n",
            "111/111 [==============================] - 10s 91ms/step - loss: 0.4893 - accuracy: 0.8065 - val_loss: 0.5622 - val_accuracy: 0.8182\n",
            "Epoch 85/500\n",
            "111/111 [==============================] - 10s 91ms/step - loss: 0.4926 - accuracy: 0.8020 - val_loss: 0.5411 - val_accuracy: 0.8182\n",
            "Epoch 86/500\n",
            "111/111 [==============================] - 10s 91ms/step - loss: 0.4925 - accuracy: 0.8046 - val_loss: 0.5387 - val_accuracy: 0.8182\n",
            "Epoch 87/500\n",
            "111/111 [==============================] - 10s 90ms/step - loss: 0.4883 - accuracy: 0.8027 - val_loss: 0.5349 - val_accuracy: 0.8048\n",
            "Epoch 88/500\n",
            "111/111 [==============================] - 10s 91ms/step - loss: 0.4912 - accuracy: 0.8015 - val_loss: 0.5497 - val_accuracy: 0.8075\n",
            "Epoch 89/500\n",
            "111/111 [==============================] - 10s 91ms/step - loss: 0.4887 - accuracy: 0.8071 - val_loss: 0.5359 - val_accuracy: 0.8262\n",
            "Epoch 90/500\n",
            "111/111 [==============================] - 10s 92ms/step - loss: 0.4815 - accuracy: 0.8092 - val_loss: 0.5383 - val_accuracy: 0.8235\n",
            "Epoch 91/500\n",
            "111/111 [==============================] - 10s 91ms/step - loss: 0.4797 - accuracy: 0.8094 - val_loss: 0.5376 - val_accuracy: 0.8075\n",
            "Epoch 92/500\n",
            "111/111 [==============================] - 10s 91ms/step - loss: 0.4754 - accuracy: 0.8156 - val_loss: 0.5423 - val_accuracy: 0.8289\n",
            "Epoch 93/500\n",
            "111/111 [==============================] - 10s 92ms/step - loss: 0.4789 - accuracy: 0.8064 - val_loss: 0.5273 - val_accuracy: 0.8182\n",
            "Epoch 94/500\n",
            "111/111 [==============================] - 10s 92ms/step - loss: 0.4769 - accuracy: 0.8123 - val_loss: 0.5137 - val_accuracy: 0.8262\n",
            "Epoch 95/500\n",
            "111/111 [==============================] - 10s 92ms/step - loss: 0.4702 - accuracy: 0.8187 - val_loss: 0.5359 - val_accuracy: 0.8182\n",
            "Epoch 96/500\n",
            "111/111 [==============================] - 10s 91ms/step - loss: 0.4710 - accuracy: 0.8122 - val_loss: 0.5220 - val_accuracy: 0.8128\n",
            "Epoch 97/500\n",
            "111/111 [==============================] - 10s 91ms/step - loss: 0.4700 - accuracy: 0.8136 - val_loss: 0.5106 - val_accuracy: 0.8262\n",
            "Epoch 98/500\n",
            "111/111 [==============================] - 10s 91ms/step - loss: 0.4566 - accuracy: 0.8194 - val_loss: 0.5186 - val_accuracy: 0.8235\n",
            "Epoch 99/500\n",
            "111/111 [==============================] - 10s 91ms/step - loss: 0.4639 - accuracy: 0.8136 - val_loss: 0.5115 - val_accuracy: 0.8209\n",
            "Epoch 100/500\n",
            "111/111 [==============================] - 10s 91ms/step - loss: 0.4702 - accuracy: 0.8123 - val_loss: 0.5166 - val_accuracy: 0.8075\n",
            "Epoch 101/500\n",
            "111/111 [==============================] - 10s 91ms/step - loss: 0.4605 - accuracy: 0.8192 - val_loss: 0.5084 - val_accuracy: 0.8102\n",
            "Epoch 102/500\n",
            "111/111 [==============================] - 10s 91ms/step - loss: 0.4543 - accuracy: 0.8191 - val_loss: 0.5160 - val_accuracy: 0.8155\n",
            "Epoch 103/500\n",
            "111/111 [==============================] - 10s 91ms/step - loss: 0.4554 - accuracy: 0.8192 - val_loss: 0.5045 - val_accuracy: 0.8342\n",
            "Epoch 104/500\n",
            "111/111 [==============================] - 10s 91ms/step - loss: 0.4547 - accuracy: 0.8195 - val_loss: 0.5291 - val_accuracy: 0.7968\n",
            "Epoch 105/500\n",
            "111/111 [==============================] - 10s 91ms/step - loss: 0.4485 - accuracy: 0.8227 - val_loss: 0.5182 - val_accuracy: 0.8075\n",
            "Epoch 106/500\n",
            "111/111 [==============================] - 10s 91ms/step - loss: 0.4433 - accuracy: 0.8261 - val_loss: 0.5242 - val_accuracy: 0.8075\n",
            "Epoch 107/500\n",
            "111/111 [==============================] - 10s 91ms/step - loss: 0.4558 - accuracy: 0.8263 - val_loss: 0.4942 - val_accuracy: 0.8182\n",
            "Epoch 108/500\n",
            "111/111 [==============================] - 10s 91ms/step - loss: 0.4489 - accuracy: 0.8226 - val_loss: 0.5115 - val_accuracy: 0.8182\n",
            "Epoch 109/500\n",
            "111/111 [==============================] - 10s 91ms/step - loss: 0.4475 - accuracy: 0.8257 - val_loss: 0.5118 - val_accuracy: 0.8235\n",
            "Epoch 110/500\n",
            "111/111 [==============================] - 10s 91ms/step - loss: 0.4495 - accuracy: 0.8164 - val_loss: 0.5054 - val_accuracy: 0.8128\n",
            "Epoch 111/500\n",
            "111/111 [==============================] - 10s 91ms/step - loss: 0.4420 - accuracy: 0.8274 - val_loss: 0.4957 - val_accuracy: 0.8209\n",
            "Epoch 112/500\n",
            "111/111 [==============================] - 10s 91ms/step - loss: 0.4387 - accuracy: 0.8318 - val_loss: 0.4958 - val_accuracy: 0.8396\n",
            "Epoch 113/500\n",
            "111/111 [==============================] - 10s 91ms/step - loss: 0.4440 - accuracy: 0.8291 - val_loss: 0.4908 - val_accuracy: 0.8342\n",
            "Epoch 114/500\n",
            "111/111 [==============================] - 10s 91ms/step - loss: 0.4382 - accuracy: 0.8280 - val_loss: 0.4854 - val_accuracy: 0.8396\n",
            "Epoch 115/500\n",
            "111/111 [==============================] - 10s 91ms/step - loss: 0.4391 - accuracy: 0.8281 - val_loss: 0.4879 - val_accuracy: 0.8235\n",
            "Epoch 116/500\n",
            "111/111 [==============================] - 10s 91ms/step - loss: 0.4352 - accuracy: 0.8329 - val_loss: 0.4924 - val_accuracy: 0.8316\n",
            "Epoch 117/500\n",
            "111/111 [==============================] - 10s 91ms/step - loss: 0.4320 - accuracy: 0.8296 - val_loss: 0.4986 - val_accuracy: 0.8316\n",
            "Epoch 118/500\n",
            "111/111 [==============================] - 10s 91ms/step - loss: 0.4305 - accuracy: 0.8326 - val_loss: 0.4900 - val_accuracy: 0.8369\n",
            "Epoch 119/500\n",
            "111/111 [==============================] - 10s 91ms/step - loss: 0.4345 - accuracy: 0.8295 - val_loss: 0.4875 - val_accuracy: 0.8262\n",
            "Epoch 120/500\n",
            "111/111 [==============================] - 10s 91ms/step - loss: 0.4289 - accuracy: 0.8319 - val_loss: 0.4885 - val_accuracy: 0.8182\n",
            "Epoch 121/500\n",
            "111/111 [==============================] - 10s 91ms/step - loss: 0.4323 - accuracy: 0.8298 - val_loss: 0.5004 - val_accuracy: 0.8369\n",
            "Epoch 122/500\n",
            "111/111 [==============================] - 10s 91ms/step - loss: 0.4304 - accuracy: 0.8309 - val_loss: 0.4870 - val_accuracy: 0.8289\n",
            "Epoch 123/500\n",
            "111/111 [==============================] - 10s 91ms/step - loss: 0.4278 - accuracy: 0.8325 - val_loss: 0.4866 - val_accuracy: 0.8396\n",
            "Epoch 124/500\n",
            "111/111 [==============================] - 10s 90ms/step - loss: 0.4241 - accuracy: 0.8325 - val_loss: 0.4851 - val_accuracy: 0.8262\n",
            "Epoch 125/500\n",
            "111/111 [==============================] - 10s 91ms/step - loss: 0.4220 - accuracy: 0.8370 - val_loss: 0.4894 - val_accuracy: 0.8342\n",
            "Epoch 126/500\n",
            "111/111 [==============================] - 10s 91ms/step - loss: 0.4253 - accuracy: 0.8357 - val_loss: 0.4753 - val_accuracy: 0.8529\n",
            "Epoch 127/500\n",
            "111/111 [==============================] - 10s 91ms/step - loss: 0.4175 - accuracy: 0.8381 - val_loss: 0.4844 - val_accuracy: 0.8369\n",
            "Epoch 128/500\n",
            "111/111 [==============================] - 10s 91ms/step - loss: 0.4191 - accuracy: 0.8373 - val_loss: 0.4894 - val_accuracy: 0.8235\n",
            "Epoch 129/500\n",
            "111/111 [==============================] - 10s 91ms/step - loss: 0.4182 - accuracy: 0.8375 - val_loss: 0.4775 - val_accuracy: 0.8396\n",
            "Epoch 130/500\n",
            "111/111 [==============================] - 10s 92ms/step - loss: 0.4125 - accuracy: 0.8377 - val_loss: 0.4632 - val_accuracy: 0.8476\n",
            "Epoch 131/500\n",
            "111/111 [==============================] - 10s 91ms/step - loss: 0.4222 - accuracy: 0.8349 - val_loss: 0.4661 - val_accuracy: 0.8476\n",
            "Epoch 132/500\n",
            "111/111 [==============================] - 10s 91ms/step - loss: 0.4135 - accuracy: 0.8399 - val_loss: 0.4735 - val_accuracy: 0.8449\n",
            "Epoch 133/500\n",
            "111/111 [==============================] - 10s 91ms/step - loss: 0.4164 - accuracy: 0.8351 - val_loss: 0.4887 - val_accuracy: 0.8289\n",
            "Epoch 134/500\n",
            "111/111 [==============================] - 10s 91ms/step - loss: 0.4104 - accuracy: 0.8389 - val_loss: 0.4671 - val_accuracy: 0.8396\n",
            "Epoch 135/500\n",
            "111/111 [==============================] - 10s 92ms/step - loss: 0.4142 - accuracy: 0.8378 - val_loss: 0.4664 - val_accuracy: 0.8503\n",
            "Epoch 136/500\n",
            "111/111 [==============================] - 10s 92ms/step - loss: 0.4068 - accuracy: 0.8394 - val_loss: 0.4729 - val_accuracy: 0.8235\n",
            "Epoch 137/500\n",
            "111/111 [==============================] - 10s 92ms/step - loss: 0.4060 - accuracy: 0.8402 - val_loss: 0.4661 - val_accuracy: 0.8529\n",
            "Epoch 138/500\n",
            "111/111 [==============================] - 10s 91ms/step - loss: 0.4123 - accuracy: 0.8378 - val_loss: 0.4683 - val_accuracy: 0.8449\n",
            "Epoch 139/500\n",
            "111/111 [==============================] - 10s 91ms/step - loss: 0.4123 - accuracy: 0.8387 - val_loss: 0.4644 - val_accuracy: 0.8529\n",
            "Epoch 140/500\n",
            "111/111 [==============================] - 10s 91ms/step - loss: 0.3948 - accuracy: 0.8460 - val_loss: 0.4631 - val_accuracy: 0.8503\n",
            "Epoch 141/500\n",
            "111/111 [==============================] - 10s 91ms/step - loss: 0.4117 - accuracy: 0.8392 - val_loss: 0.4684 - val_accuracy: 0.8422\n",
            "Epoch 142/500\n",
            "111/111 [==============================] - 10s 91ms/step - loss: 0.3997 - accuracy: 0.8432 - val_loss: 0.4633 - val_accuracy: 0.8503\n",
            "Epoch 143/500\n",
            "111/111 [==============================] - 10s 91ms/step - loss: 0.4019 - accuracy: 0.8422 - val_loss: 0.4643 - val_accuracy: 0.8422\n",
            "Epoch 144/500\n",
            "111/111 [==============================] - 10s 92ms/step - loss: 0.3972 - accuracy: 0.8430 - val_loss: 0.4535 - val_accuracy: 0.8503\n",
            "Epoch 145/500\n",
            "111/111 [==============================] - 10s 91ms/step - loss: 0.3975 - accuracy: 0.8457 - val_loss: 0.4635 - val_accuracy: 0.8503\n",
            "Epoch 146/500\n",
            "111/111 [==============================] - 10s 92ms/step - loss: 0.3960 - accuracy: 0.8485 - val_loss: 0.4596 - val_accuracy: 0.8556\n",
            "Epoch 147/500\n",
            "111/111 [==============================] - 10s 91ms/step - loss: 0.3937 - accuracy: 0.8440 - val_loss: 0.4671 - val_accuracy: 0.8342\n",
            "Epoch 148/500\n",
            "111/111 [==============================] - 10s 91ms/step - loss: 0.3941 - accuracy: 0.8498 - val_loss: 0.4622 - val_accuracy: 0.8476\n",
            "Epoch 149/500\n",
            "111/111 [==============================] - 10s 91ms/step - loss: 0.3888 - accuracy: 0.8444 - val_loss: 0.4443 - val_accuracy: 0.8476\n",
            "Epoch 150/500\n",
            "111/111 [==============================] - 10s 91ms/step - loss: 0.3935 - accuracy: 0.8444 - val_loss: 0.4514 - val_accuracy: 0.8556\n",
            "Epoch 151/500\n",
            "111/111 [==============================] - 10s 91ms/step - loss: 0.3917 - accuracy: 0.8405 - val_loss: 0.4546 - val_accuracy: 0.8503\n",
            "Epoch 152/500\n",
            "111/111 [==============================] - 10s 91ms/step - loss: 0.3900 - accuracy: 0.8466 - val_loss: 0.4578 - val_accuracy: 0.8396\n",
            "Epoch 153/500\n",
            "111/111 [==============================] - 10s 91ms/step - loss: 0.3860 - accuracy: 0.8521 - val_loss: 0.4471 - val_accuracy: 0.8610\n",
            "Epoch 154/500\n",
            "111/111 [==============================] - 10s 91ms/step - loss: 0.3960 - accuracy: 0.8425 - val_loss: 0.4690 - val_accuracy: 0.8262\n",
            "Epoch 155/500\n",
            "111/111 [==============================] - 10s 91ms/step - loss: 0.3946 - accuracy: 0.8466 - val_loss: 0.4667 - val_accuracy: 0.8262\n",
            "Epoch 156/500\n",
            "111/111 [==============================] - 10s 91ms/step - loss: 0.3809 - accuracy: 0.8532 - val_loss: 0.4440 - val_accuracy: 0.8529\n",
            "Epoch 157/500\n",
            "111/111 [==============================] - 10s 91ms/step - loss: 0.3920 - accuracy: 0.8480 - val_loss: 0.4579 - val_accuracy: 0.8342\n",
            "Epoch 158/500\n",
            "111/111 [==============================] - 10s 91ms/step - loss: 0.3809 - accuracy: 0.8497 - val_loss: 0.4776 - val_accuracy: 0.8369\n",
            "Epoch 159/500\n",
            "111/111 [==============================] - 10s 91ms/step - loss: 0.3850 - accuracy: 0.8470 - val_loss: 0.4437 - val_accuracy: 0.8503\n",
            "Epoch 160/500\n",
            "111/111 [==============================] - 10s 92ms/step - loss: 0.3771 - accuracy: 0.8508 - val_loss: 0.4472 - val_accuracy: 0.8583\n",
            "Epoch 161/500\n",
            "111/111 [==============================] - 10s 91ms/step - loss: 0.3751 - accuracy: 0.8523 - val_loss: 0.4364 - val_accuracy: 0.8556\n",
            "Epoch 162/500\n",
            "111/111 [==============================] - 10s 91ms/step - loss: 0.3832 - accuracy: 0.8480 - val_loss: 0.4436 - val_accuracy: 0.8503\n",
            "Epoch 163/500\n",
            "111/111 [==============================] - 10s 91ms/step - loss: 0.3855 - accuracy: 0.8532 - val_loss: 0.4586 - val_accuracy: 0.8449\n",
            "Epoch 164/500\n",
            "111/111 [==============================] - 10s 91ms/step - loss: 0.3767 - accuracy: 0.8530 - val_loss: 0.4444 - val_accuracy: 0.8422\n",
            "Epoch 165/500\n",
            "111/111 [==============================] - 10s 91ms/step - loss: 0.3670 - accuracy: 0.8560 - val_loss: 0.4703 - val_accuracy: 0.8316\n",
            "Epoch 166/500\n",
            "111/111 [==============================] - 10s 91ms/step - loss: 0.3794 - accuracy: 0.8491 - val_loss: 0.4417 - val_accuracy: 0.8529\n",
            "Epoch 167/500\n",
            "111/111 [==============================] - 10s 92ms/step - loss: 0.3709 - accuracy: 0.8556 - val_loss: 0.4849 - val_accuracy: 0.8235\n",
            "Epoch 168/500\n",
            "111/111 [==============================] - 10s 91ms/step - loss: 0.3725 - accuracy: 0.8536 - val_loss: 0.4348 - val_accuracy: 0.8610\n",
            "Epoch 169/500\n",
            "111/111 [==============================] - 10s 91ms/step - loss: 0.3783 - accuracy: 0.8488 - val_loss: 0.4397 - val_accuracy: 0.8556\n",
            "Epoch 170/500\n",
            "111/111 [==============================] - 10s 91ms/step - loss: 0.3759 - accuracy: 0.8530 - val_loss: 0.4445 - val_accuracy: 0.8583\n",
            "Epoch 171/500\n",
            "111/111 [==============================] - 10s 92ms/step - loss: 0.3589 - accuracy: 0.8597 - val_loss: 0.4578 - val_accuracy: 0.8476\n",
            "Epoch 172/500\n",
            "111/111 [==============================] - 10s 91ms/step - loss: 0.3679 - accuracy: 0.8564 - val_loss: 0.4421 - val_accuracy: 0.8422\n",
            "Epoch 173/500\n",
            "111/111 [==============================] - 10s 92ms/step - loss: 0.3682 - accuracy: 0.8585 - val_loss: 0.4318 - val_accuracy: 0.8529\n",
            "Epoch 174/500\n",
            "111/111 [==============================] - 10s 91ms/step - loss: 0.3629 - accuracy: 0.8615 - val_loss: 0.4294 - val_accuracy: 0.8503\n",
            "Epoch 175/500\n",
            "111/111 [==============================] - 10s 92ms/step - loss: 0.3640 - accuracy: 0.8561 - val_loss: 0.4443 - val_accuracy: 0.8449\n",
            "Epoch 176/500\n",
            "111/111 [==============================] - 10s 92ms/step - loss: 0.3672 - accuracy: 0.8563 - val_loss: 0.4490 - val_accuracy: 0.8529\n",
            "Epoch 177/500\n",
            "111/111 [==============================] - 10s 91ms/step - loss: 0.3693 - accuracy: 0.8540 - val_loss: 0.4416 - val_accuracy: 0.8503\n",
            "Epoch 178/500\n",
            "111/111 [==============================] - 10s 91ms/step - loss: 0.3651 - accuracy: 0.8580 - val_loss: 0.4193 - val_accuracy: 0.8663\n",
            "Epoch 179/500\n",
            "111/111 [==============================] - 10s 91ms/step - loss: 0.3712 - accuracy: 0.8578 - val_loss: 0.4548 - val_accuracy: 0.8369\n",
            "Epoch 180/500\n",
            "111/111 [==============================] - 10s 91ms/step - loss: 0.3705 - accuracy: 0.8561 - val_loss: 0.4439 - val_accuracy: 0.8476\n",
            "Epoch 181/500\n",
            "111/111 [==============================] - 10s 91ms/step - loss: 0.3700 - accuracy: 0.8539 - val_loss: 0.4441 - val_accuracy: 0.8583\n",
            "Epoch 182/500\n",
            "111/111 [==============================] - 10s 91ms/step - loss: 0.3550 - accuracy: 0.8597 - val_loss: 0.4361 - val_accuracy: 0.8583\n",
            "Epoch 183/500\n",
            "111/111 [==============================] - 10s 91ms/step - loss: 0.3582 - accuracy: 0.8621 - val_loss: 0.4248 - val_accuracy: 0.8503\n",
            "Epoch 184/500\n",
            "111/111 [==============================] - 10s 92ms/step - loss: 0.3589 - accuracy: 0.8550 - val_loss: 0.4537 - val_accuracy: 0.8316\n",
            "Epoch 185/500\n",
            "111/111 [==============================] - 10s 91ms/step - loss: 0.3645 - accuracy: 0.8604 - val_loss: 0.4562 - val_accuracy: 0.8422\n",
            "Epoch 186/500\n",
            "111/111 [==============================] - 10s 91ms/step - loss: 0.3615 - accuracy: 0.8601 - val_loss: 0.4399 - val_accuracy: 0.8476\n",
            "Epoch 187/500\n",
            "111/111 [==============================] - 10s 91ms/step - loss: 0.3624 - accuracy: 0.8588 - val_loss: 0.4241 - val_accuracy: 0.8636\n",
            "Epoch 188/500\n",
            "111/111 [==============================] - 10s 91ms/step - loss: 0.3539 - accuracy: 0.8616 - val_loss: 0.4298 - val_accuracy: 0.8529\n",
            "Epoch 189/500\n",
            "111/111 [==============================] - 10s 91ms/step - loss: 0.3554 - accuracy: 0.8656 - val_loss: 0.4397 - val_accuracy: 0.8503\n",
            "Epoch 190/500\n",
            "111/111 [==============================] - 10s 91ms/step - loss: 0.3556 - accuracy: 0.8597 - val_loss: 0.4317 - val_accuracy: 0.8583\n",
            "Epoch 191/500\n",
            "111/111 [==============================] - 10s 91ms/step - loss: 0.3485 - accuracy: 0.8611 - val_loss: 0.4348 - val_accuracy: 0.8503\n",
            "Epoch 192/500\n",
            "111/111 [==============================] - 10s 92ms/step - loss: 0.3560 - accuracy: 0.8585 - val_loss: 0.4378 - val_accuracy: 0.8503\n",
            "Epoch 193/500\n",
            "111/111 [==============================] - 10s 91ms/step - loss: 0.3523 - accuracy: 0.8633 - val_loss: 0.4355 - val_accuracy: 0.8503\n",
            "Epoch 194/500\n",
            "111/111 [==============================] - 10s 92ms/step - loss: 0.3460 - accuracy: 0.8643 - val_loss: 0.4334 - val_accuracy: 0.8583\n",
            "Epoch 195/500\n",
            "111/111 [==============================] - 10s 91ms/step - loss: 0.3624 - accuracy: 0.8552 - val_loss: 0.4230 - val_accuracy: 0.8610\n",
            "Epoch 196/500\n",
            "111/111 [==============================] - 10s 91ms/step - loss: 0.3434 - accuracy: 0.8671 - val_loss: 0.4339 - val_accuracy: 0.8529\n",
            "Epoch 197/500\n",
            "111/111 [==============================] - 10s 91ms/step - loss: 0.3481 - accuracy: 0.8626 - val_loss: 0.4341 - val_accuracy: 0.8610\n",
            "Epoch 198/500\n",
            "111/111 [==============================] - 10s 91ms/step - loss: 0.3529 - accuracy: 0.8639 - val_loss: 0.4275 - val_accuracy: 0.8610\n",
            "Epoch 199/500\n",
            "111/111 [==============================] - 10s 91ms/step - loss: 0.3511 - accuracy: 0.8643 - val_loss: 0.4236 - val_accuracy: 0.8690\n",
            "Epoch 200/500\n",
            "111/111 [==============================] - 10s 92ms/step - loss: 0.3440 - accuracy: 0.8663 - val_loss: 0.4230 - val_accuracy: 0.8636\n",
            "Epoch 201/500\n",
            "111/111 [==============================] - 10s 91ms/step - loss: 0.3477 - accuracy: 0.8653 - val_loss: 0.4267 - val_accuracy: 0.8503\n",
            "Epoch 202/500\n",
            "111/111 [==============================] - 10s 91ms/step - loss: 0.3486 - accuracy: 0.8644 - val_loss: 0.4144 - val_accuracy: 0.8770\n",
            "Epoch 203/500\n",
            "111/111 [==============================] - 10s 91ms/step - loss: 0.3426 - accuracy: 0.8654 - val_loss: 0.4233 - val_accuracy: 0.8583\n",
            "Epoch 204/500\n",
            "111/111 [==============================] - 10s 91ms/step - loss: 0.3454 - accuracy: 0.8637 - val_loss: 0.4241 - val_accuracy: 0.8449\n",
            "Epoch 205/500\n",
            "111/111 [==============================] - 10s 91ms/step - loss: 0.3385 - accuracy: 0.8667 - val_loss: 0.4172 - val_accuracy: 0.8743\n",
            "Epoch 206/500\n",
            "111/111 [==============================] - 10s 91ms/step - loss: 0.3478 - accuracy: 0.8646 - val_loss: 0.4404 - val_accuracy: 0.8422\n",
            "Epoch 207/500\n",
            "111/111 [==============================] - 10s 91ms/step - loss: 0.3435 - accuracy: 0.8691 - val_loss: 0.4718 - val_accuracy: 0.8262\n",
            "Epoch 208/500\n",
            "111/111 [==============================] - 10s 91ms/step - loss: 0.3439 - accuracy: 0.8654 - val_loss: 0.4434 - val_accuracy: 0.8449\n",
            "Epoch 209/500\n",
            "111/111 [==============================] - 10s 91ms/step - loss: 0.3417 - accuracy: 0.8643 - val_loss: 0.4187 - val_accuracy: 0.8690\n",
            "Epoch 210/500\n",
            "111/111 [==============================] - 10s 91ms/step - loss: 0.3407 - accuracy: 0.8673 - val_loss: 0.4128 - val_accuracy: 0.8503\n",
            "Epoch 211/500\n",
            "111/111 [==============================] - 10s 91ms/step - loss: 0.3382 - accuracy: 0.8681 - val_loss: 0.4283 - val_accuracy: 0.8529\n",
            "Epoch 212/500\n",
            "111/111 [==============================] - 10s 91ms/step - loss: 0.3394 - accuracy: 0.8667 - val_loss: 0.4249 - val_accuracy: 0.8636\n",
            "Epoch 213/500\n",
            "111/111 [==============================] - 10s 91ms/step - loss: 0.3357 - accuracy: 0.8659 - val_loss: 0.4102 - val_accuracy: 0.8690\n",
            "Epoch 214/500\n",
            "111/111 [==============================] - 10s 91ms/step - loss: 0.3371 - accuracy: 0.8652 - val_loss: 0.4029 - val_accuracy: 0.8743\n",
            "Epoch 215/500\n",
            "111/111 [==============================] - 10s 91ms/step - loss: 0.3328 - accuracy: 0.8749 - val_loss: 0.4051 - val_accuracy: 0.8717\n",
            "Epoch 216/500\n",
            "111/111 [==============================] - 10s 91ms/step - loss: 0.3424 - accuracy: 0.8688 - val_loss: 0.4069 - val_accuracy: 0.8743\n",
            "Epoch 217/500\n",
            "111/111 [==============================] - 10s 91ms/step - loss: 0.3352 - accuracy: 0.8719 - val_loss: 0.4213 - val_accuracy: 0.8690\n",
            "Epoch 218/500\n",
            "111/111 [==============================] - 10s 91ms/step - loss: 0.3364 - accuracy: 0.8695 - val_loss: 0.4109 - val_accuracy: 0.8690\n",
            "Epoch 219/500\n",
            "111/111 [==============================] - 10s 91ms/step - loss: 0.3328 - accuracy: 0.8730 - val_loss: 0.4100 - val_accuracy: 0.8636\n",
            "Epoch 220/500\n",
            "111/111 [==============================] - 10s 91ms/step - loss: 0.3332 - accuracy: 0.8675 - val_loss: 0.4143 - val_accuracy: 0.8610\n",
            "Epoch 221/500\n",
            "111/111 [==============================] - 10s 91ms/step - loss: 0.3332 - accuracy: 0.8709 - val_loss: 0.4148 - val_accuracy: 0.8717\n",
            "Epoch 222/500\n",
            "111/111 [==============================] - 10s 91ms/step - loss: 0.3264 - accuracy: 0.8726 - val_loss: 0.4319 - val_accuracy: 0.8476\n",
            "Epoch 223/500\n",
            "111/111 [==============================] - 10s 91ms/step - loss: 0.3331 - accuracy: 0.8688 - val_loss: 0.4026 - val_accuracy: 0.8770\n",
            "Epoch 224/500\n",
            "111/111 [==============================] - 10s 91ms/step - loss: 0.3266 - accuracy: 0.8688 - val_loss: 0.4202 - val_accuracy: 0.8717\n",
            "Epoch 225/500\n",
            "111/111 [==============================] - 10s 91ms/step - loss: 0.3224 - accuracy: 0.8759 - val_loss: 0.3935 - val_accuracy: 0.8717\n",
            "Epoch 226/500\n",
            "111/111 [==============================] - 10s 91ms/step - loss: 0.3202 - accuracy: 0.8718 - val_loss: 0.4078 - val_accuracy: 0.8690\n",
            "Epoch 227/500\n",
            "111/111 [==============================] - 10s 91ms/step - loss: 0.3374 - accuracy: 0.8706 - val_loss: 0.4071 - val_accuracy: 0.8636\n",
            "Epoch 228/500\n",
            "111/111 [==============================] - 10s 91ms/step - loss: 0.3366 - accuracy: 0.8690 - val_loss: 0.4049 - val_accuracy: 0.8690\n",
            "Epoch 229/500\n",
            "111/111 [==============================] - 10s 91ms/step - loss: 0.3249 - accuracy: 0.8763 - val_loss: 0.4062 - val_accuracy: 0.8610\n",
            "Epoch 230/500\n",
            "111/111 [==============================] - 10s 91ms/step - loss: 0.3311 - accuracy: 0.8726 - val_loss: 0.4144 - val_accuracy: 0.8636\n",
            "Epoch 231/500\n",
            "111/111 [==============================] - 10s 92ms/step - loss: 0.3212 - accuracy: 0.8756 - val_loss: 0.4029 - val_accuracy: 0.8690\n",
            "Epoch 232/500\n",
            "111/111 [==============================] - 10s 92ms/step - loss: 0.3197 - accuracy: 0.8781 - val_loss: 0.4114 - val_accuracy: 0.8663\n",
            "Epoch 233/500\n",
            "111/111 [==============================] - 10s 92ms/step - loss: 0.3232 - accuracy: 0.8743 - val_loss: 0.4024 - val_accuracy: 0.8717\n",
            "Epoch 234/500\n",
            "111/111 [==============================] - 10s 91ms/step - loss: 0.3265 - accuracy: 0.8735 - val_loss: 0.4004 - val_accuracy: 0.8690\n",
            "Epoch 235/500\n",
            "111/111 [==============================] - 10s 91ms/step - loss: 0.3245 - accuracy: 0.8725 - val_loss: 0.4017 - val_accuracy: 0.8690\n",
            "Epoch 236/500\n",
            "111/111 [==============================] - 10s 92ms/step - loss: 0.3171 - accuracy: 0.8756 - val_loss: 0.4322 - val_accuracy: 0.8690\n",
            "Epoch 237/500\n",
            "111/111 [==============================] - 10s 91ms/step - loss: 0.3204 - accuracy: 0.8766 - val_loss: 0.3997 - val_accuracy: 0.8690\n",
            "Epoch 238/500\n",
            "111/111 [==============================] - 10s 91ms/step - loss: 0.3204 - accuracy: 0.8749 - val_loss: 0.4245 - val_accuracy: 0.8583\n",
            "Epoch 239/500\n",
            "111/111 [==============================] - 10s 91ms/step - loss: 0.3174 - accuracy: 0.8774 - val_loss: 0.4024 - val_accuracy: 0.8636\n",
            "Epoch 240/500\n",
            "111/111 [==============================] - 10s 91ms/step - loss: 0.3246 - accuracy: 0.8759 - val_loss: 0.4025 - val_accuracy: 0.8663\n",
            "Epoch 241/500\n",
            "111/111 [==============================] - 10s 91ms/step - loss: 0.3228 - accuracy: 0.8716 - val_loss: 0.4140 - val_accuracy: 0.8556\n",
            "Epoch 242/500\n",
            "111/111 [==============================] - 10s 91ms/step - loss: 0.3188 - accuracy: 0.8739 - val_loss: 0.4037 - val_accuracy: 0.8529\n",
            "Epoch 243/500\n",
            "111/111 [==============================] - 10s 91ms/step - loss: 0.3221 - accuracy: 0.8729 - val_loss: 0.4020 - val_accuracy: 0.8503\n",
            "Epoch 244/500\n",
            "111/111 [==============================] - 10s 91ms/step - loss: 0.3114 - accuracy: 0.8842 - val_loss: 0.4144 - val_accuracy: 0.8717\n",
            "Epoch 245/500\n",
            "111/111 [==============================] - 10s 91ms/step - loss: 0.3153 - accuracy: 0.8757 - val_loss: 0.3870 - val_accuracy: 0.8770\n",
            "Epoch 246/500\n",
            "111/111 [==============================] - 10s 91ms/step - loss: 0.3109 - accuracy: 0.8807 - val_loss: 0.3990 - val_accuracy: 0.8770\n",
            "Epoch 247/500\n",
            "111/111 [==============================] - 10s 91ms/step - loss: 0.3119 - accuracy: 0.8737 - val_loss: 0.3979 - val_accuracy: 0.8743\n",
            "Epoch 248/500\n",
            "111/111 [==============================] - 10s 91ms/step - loss: 0.3082 - accuracy: 0.8815 - val_loss: 0.4088 - val_accuracy: 0.8690\n",
            "Epoch 249/500\n",
            "111/111 [==============================] - 10s 91ms/step - loss: 0.3139 - accuracy: 0.8790 - val_loss: 0.3945 - val_accuracy: 0.8770\n",
            "Epoch 250/500\n",
            "111/111 [==============================] - 10s 91ms/step - loss: 0.3105 - accuracy: 0.8770 - val_loss: 0.3990 - val_accuracy: 0.8770\n",
            "Epoch 251/500\n",
            "111/111 [==============================] - 10s 92ms/step - loss: 0.3152 - accuracy: 0.8766 - val_loss: 0.3929 - val_accuracy: 0.8850\n",
            "Epoch 252/500\n",
            "111/111 [==============================] - 10s 91ms/step - loss: 0.3060 - accuracy: 0.8790 - val_loss: 0.4231 - val_accuracy: 0.8610\n",
            "Epoch 253/500\n",
            "111/111 [==============================] - 10s 91ms/step - loss: 0.3105 - accuracy: 0.8804 - val_loss: 0.3914 - val_accuracy: 0.8690\n",
            "Epoch 254/500\n",
            "111/111 [==============================] - 10s 91ms/step - loss: 0.3042 - accuracy: 0.8788 - val_loss: 0.3969 - val_accuracy: 0.8717\n",
            "Epoch 255/500\n",
            "111/111 [==============================] - 10s 91ms/step - loss: 0.3085 - accuracy: 0.8825 - val_loss: 0.3949 - val_accuracy: 0.8743\n",
            "Epoch 256/500\n",
            "111/111 [==============================] - 10s 91ms/step - loss: 0.3031 - accuracy: 0.8804 - val_loss: 0.4026 - val_accuracy: 0.8690\n",
            "Epoch 257/500\n",
            "111/111 [==============================] - 10s 92ms/step - loss: 0.3039 - accuracy: 0.8812 - val_loss: 0.3883 - val_accuracy: 0.8770\n",
            "Epoch 258/500\n",
            "111/111 [==============================] - 10s 91ms/step - loss: 0.3079 - accuracy: 0.8802 - val_loss: 0.3886 - val_accuracy: 0.8743\n",
            "Epoch 259/500\n",
            "111/111 [==============================] - 10s 91ms/step - loss: 0.3082 - accuracy: 0.8835 - val_loss: 0.4021 - val_accuracy: 0.8797\n",
            "Epoch 260/500\n",
            "111/111 [==============================] - 10s 91ms/step - loss: 0.3042 - accuracy: 0.8791 - val_loss: 0.3992 - val_accuracy: 0.8850\n",
            "Epoch 261/500\n",
            "111/111 [==============================] - 10s 92ms/step - loss: 0.3040 - accuracy: 0.8811 - val_loss: 0.3930 - val_accuracy: 0.8636\n",
            "Epoch 262/500\n",
            "111/111 [==============================] - 10s 91ms/step - loss: 0.2957 - accuracy: 0.8878 - val_loss: 0.3906 - val_accuracy: 0.8636\n",
            "Epoch 263/500\n",
            "111/111 [==============================] - 10s 91ms/step - loss: 0.3141 - accuracy: 0.8790 - val_loss: 0.3890 - val_accuracy: 0.8663\n",
            "Epoch 264/500\n",
            "111/111 [==============================] - 10s 92ms/step - loss: 0.2999 - accuracy: 0.8816 - val_loss: 0.3979 - val_accuracy: 0.8663\n",
            "Epoch 265/500\n",
            "111/111 [==============================] - 10s 91ms/step - loss: 0.3001 - accuracy: 0.8842 - val_loss: 0.3885 - val_accuracy: 0.8797\n",
            "Epoch 266/500\n",
            "111/111 [==============================] - 10s 91ms/step - loss: 0.3036 - accuracy: 0.8818 - val_loss: 0.3902 - val_accuracy: 0.8717\n",
            "Epoch 267/500\n",
            "111/111 [==============================] - 10s 92ms/step - loss: 0.3029 - accuracy: 0.8819 - val_loss: 0.3959 - val_accuracy: 0.8717\n",
            "Epoch 268/500\n",
            "111/111 [==============================] - 10s 91ms/step - loss: 0.3025 - accuracy: 0.8795 - val_loss: 0.3896 - val_accuracy: 0.8663\n",
            "Epoch 269/500\n",
            "111/111 [==============================] - 10s 91ms/step - loss: 0.2905 - accuracy: 0.8854 - val_loss: 0.3935 - val_accuracy: 0.8850\n",
            "Epoch 270/500\n",
            "111/111 [==============================] - 10s 91ms/step - loss: 0.2959 - accuracy: 0.8859 - val_loss: 0.3819 - val_accuracy: 0.8690\n",
            "Epoch 271/500\n",
            "111/111 [==============================] - 10s 91ms/step - loss: 0.2988 - accuracy: 0.8818 - val_loss: 0.3891 - val_accuracy: 0.8690\n",
            "Epoch 272/500\n",
            "111/111 [==============================] - 10s 91ms/step - loss: 0.2938 - accuracy: 0.8873 - val_loss: 0.3907 - val_accuracy: 0.8717\n",
            "Epoch 273/500\n",
            "111/111 [==============================] - 10s 91ms/step - loss: 0.2982 - accuracy: 0.8846 - val_loss: 0.4094 - val_accuracy: 0.8743\n",
            "Epoch 274/500\n",
            "111/111 [==============================] - 10s 91ms/step - loss: 0.2933 - accuracy: 0.8866 - val_loss: 0.3821 - val_accuracy: 0.8850\n",
            "Epoch 275/500\n",
            "111/111 [==============================] - 10s 91ms/step - loss: 0.2995 - accuracy: 0.8852 - val_loss: 0.4023 - val_accuracy: 0.8690\n",
            "Epoch 276/500\n",
            "111/111 [==============================] - 10s 91ms/step - loss: 0.3008 - accuracy: 0.8807 - val_loss: 0.3886 - val_accuracy: 0.8690\n",
            "Epoch 277/500\n",
            "111/111 [==============================] - 10s 91ms/step - loss: 0.2932 - accuracy: 0.8912 - val_loss: 0.4141 - val_accuracy: 0.8743\n",
            "Epoch 278/500\n",
            "111/111 [==============================] - 10s 93ms/step - loss: 0.2922 - accuracy: 0.8887 - val_loss: 0.3772 - val_accuracy: 0.8797\n",
            "Epoch 279/500\n",
            "111/111 [==============================] - 10s 92ms/step - loss: 0.2952 - accuracy: 0.8847 - val_loss: 0.4406 - val_accuracy: 0.8396\n",
            "Epoch 280/500\n",
            "111/111 [==============================] - 10s 93ms/step - loss: 0.3067 - accuracy: 0.8783 - val_loss: 0.4229 - val_accuracy: 0.8556\n",
            "Epoch 281/500\n",
            "111/111 [==============================] - 10s 93ms/step - loss: 0.2988 - accuracy: 0.8840 - val_loss: 0.3981 - val_accuracy: 0.8636\n",
            "Epoch 282/500\n",
            "111/111 [==============================] - 10s 93ms/step - loss: 0.2965 - accuracy: 0.8860 - val_loss: 0.4097 - val_accuracy: 0.8610\n",
            "Epoch 283/500\n",
            "111/111 [==============================] - 10s 93ms/step - loss: 0.2825 - accuracy: 0.8888 - val_loss: 0.4175 - val_accuracy: 0.8583\n",
            "Epoch 284/500\n",
            "111/111 [==============================] - 10s 93ms/step - loss: 0.2897 - accuracy: 0.8891 - val_loss: 0.3860 - val_accuracy: 0.8743\n",
            "Epoch 285/500\n",
            "111/111 [==============================] - 10s 93ms/step - loss: 0.2979 - accuracy: 0.8843 - val_loss: 0.3790 - val_accuracy: 0.8877\n",
            "Epoch 286/500\n",
            "111/111 [==============================] - 10s 92ms/step - loss: 0.2980 - accuracy: 0.8830 - val_loss: 0.3762 - val_accuracy: 0.8717\n",
            "Epoch 287/500\n",
            "111/111 [==============================] - 10s 92ms/step - loss: 0.2866 - accuracy: 0.8878 - val_loss: 0.3686 - val_accuracy: 0.8824\n",
            "Epoch 288/500\n",
            "111/111 [==============================] - 10s 92ms/step - loss: 0.2940 - accuracy: 0.8856 - val_loss: 0.3754 - val_accuracy: 0.8797\n",
            "Epoch 289/500\n",
            "111/111 [==============================] - 10s 91ms/step - loss: 0.2884 - accuracy: 0.8885 - val_loss: 0.3847 - val_accuracy: 0.8824\n",
            "Epoch 290/500\n",
            "111/111 [==============================] - 10s 91ms/step - loss: 0.2834 - accuracy: 0.8863 - val_loss: 0.3867 - val_accuracy: 0.8770\n",
            "Epoch 291/500\n",
            "111/111 [==============================] - 10s 91ms/step - loss: 0.2820 - accuracy: 0.8887 - val_loss: 0.3777 - val_accuracy: 0.8663\n",
            "Epoch 292/500\n",
            "111/111 [==============================] - 10s 92ms/step - loss: 0.2862 - accuracy: 0.8870 - val_loss: 0.3916 - val_accuracy: 0.8690\n",
            "Epoch 293/500\n",
            "111/111 [==============================] - 10s 92ms/step - loss: 0.2858 - accuracy: 0.8887 - val_loss: 0.3905 - val_accuracy: 0.8690\n",
            "Epoch 294/500\n",
            "111/111 [==============================] - 10s 93ms/step - loss: 0.2857 - accuracy: 0.8874 - val_loss: 0.3900 - val_accuracy: 0.8690\n",
            "Epoch 295/500\n",
            "111/111 [==============================] - 10s 93ms/step - loss: 0.2910 - accuracy: 0.8883 - val_loss: 0.4099 - val_accuracy: 0.8717\n",
            "Epoch 296/500\n",
            "111/111 [==============================] - 10s 94ms/step - loss: 0.2808 - accuracy: 0.8959 - val_loss: 0.3940 - val_accuracy: 0.8529\n",
            "Epoch 297/500\n",
            "111/111 [==============================] - 10s 93ms/step - loss: 0.2887 - accuracy: 0.8850 - val_loss: 0.3845 - val_accuracy: 0.8717\n",
            "Epoch 298/500\n",
            "111/111 [==============================] - 10s 93ms/step - loss: 0.2879 - accuracy: 0.8870 - val_loss: 0.3787 - val_accuracy: 0.8717\n",
            "Epoch 299/500\n",
            "111/111 [==============================] - 10s 93ms/step - loss: 0.2775 - accuracy: 0.8912 - val_loss: 0.3979 - val_accuracy: 0.8663\n",
            "Epoch 300/500\n",
            "111/111 [==============================] - 10s 93ms/step - loss: 0.2908 - accuracy: 0.8846 - val_loss: 0.3832 - val_accuracy: 0.8824\n",
            "Epoch 301/500\n",
            "111/111 [==============================] - 10s 93ms/step - loss: 0.2796 - accuracy: 0.8912 - val_loss: 0.3839 - val_accuracy: 0.8690\n",
            "Epoch 302/500\n",
            "111/111 [==============================] - 10s 93ms/step - loss: 0.2766 - accuracy: 0.8926 - val_loss: 0.3744 - val_accuracy: 0.8717\n",
            "Epoch 303/500\n",
            "111/111 [==============================] - 10s 94ms/step - loss: 0.2811 - accuracy: 0.8916 - val_loss: 0.4539 - val_accuracy: 0.8556\n",
            "Epoch 304/500\n",
            "111/111 [==============================] - 10s 93ms/step - loss: 0.2788 - accuracy: 0.8919 - val_loss: 0.3718 - val_accuracy: 0.8610\n",
            "Epoch 305/500\n",
            "111/111 [==============================] - 10s 93ms/step - loss: 0.2806 - accuracy: 0.8931 - val_loss: 0.4164 - val_accuracy: 0.8636\n",
            "Epoch 306/500\n",
            "111/111 [==============================] - 10s 93ms/step - loss: 0.2761 - accuracy: 0.8932 - val_loss: 0.3814 - val_accuracy: 0.8663\n",
            "Epoch 307/500\n",
            "111/111 [==============================] - 10s 93ms/step - loss: 0.2743 - accuracy: 0.8929 - val_loss: 0.3754 - val_accuracy: 0.8797\n",
            "Epoch 308/500\n",
            "111/111 [==============================] - 10s 93ms/step - loss: 0.2692 - accuracy: 0.8962 - val_loss: 0.3835 - val_accuracy: 0.8743\n",
            "Epoch 309/500\n",
            "111/111 [==============================] - 10s 93ms/step - loss: 0.2766 - accuracy: 0.8898 - val_loss: 0.3802 - val_accuracy: 0.8824\n",
            "Epoch 310/500\n",
            "111/111 [==============================] - 10s 93ms/step - loss: 0.2716 - accuracy: 0.8935 - val_loss: 0.3657 - val_accuracy: 0.8770\n",
            "Epoch 311/500\n",
            "111/111 [==============================] - 10s 93ms/step - loss: 0.2789 - accuracy: 0.8939 - val_loss: 0.3838 - val_accuracy: 0.8797\n",
            "Epoch 312/500\n",
            "111/111 [==============================] - 10s 93ms/step - loss: 0.2732 - accuracy: 0.8946 - val_loss: 0.3945 - val_accuracy: 0.8556\n",
            "Epoch 313/500\n",
            "111/111 [==============================] - 10s 93ms/step - loss: 0.2754 - accuracy: 0.8943 - val_loss: 0.3774 - val_accuracy: 0.8636\n",
            "Epoch 314/500\n",
            "111/111 [==============================] - 10s 93ms/step - loss: 0.2693 - accuracy: 0.8952 - val_loss: 0.3941 - val_accuracy: 0.8770\n",
            "Epoch 315/500\n",
            "111/111 [==============================] - 10s 93ms/step - loss: 0.2747 - accuracy: 0.8922 - val_loss: 0.3698 - val_accuracy: 0.8824\n",
            "Epoch 316/500\n",
            "111/111 [==============================] - 10s 92ms/step - loss: 0.2758 - accuracy: 0.8938 - val_loss: 0.3696 - val_accuracy: 0.8636\n",
            "Epoch 317/500\n",
            "111/111 [==============================] - 10s 92ms/step - loss: 0.2753 - accuracy: 0.8945 - val_loss: 0.3786 - val_accuracy: 0.8850\n",
            "Epoch 318/500\n",
            "111/111 [==============================] - 10s 92ms/step - loss: 0.2816 - accuracy: 0.8931 - val_loss: 0.3816 - val_accuracy: 0.8663\n",
            "Epoch 319/500\n",
            "111/111 [==============================] - 10s 92ms/step - loss: 0.2784 - accuracy: 0.8908 - val_loss: 0.3807 - val_accuracy: 0.8797\n",
            "Epoch 320/500\n",
            "111/111 [==============================] - 10s 93ms/step - loss: 0.2777 - accuracy: 0.8935 - val_loss: 0.3838 - val_accuracy: 0.8743\n",
            "Epoch 321/500\n",
            "111/111 [==============================] - 10s 92ms/step - loss: 0.2694 - accuracy: 0.8954 - val_loss: 0.3791 - val_accuracy: 0.8717\n",
            "Epoch 322/500\n",
            "111/111 [==============================] - 10s 93ms/step - loss: 0.2639 - accuracy: 0.8960 - val_loss: 0.3961 - val_accuracy: 0.8663\n",
            "Epoch 323/500\n",
            "111/111 [==============================] - 10s 93ms/step - loss: 0.2680 - accuracy: 0.8956 - val_loss: 0.3738 - val_accuracy: 0.8743\n",
            "Epoch 324/500\n",
            "111/111 [==============================] - 10s 93ms/step - loss: 0.2686 - accuracy: 0.8964 - val_loss: 0.3619 - val_accuracy: 0.8717\n",
            "Epoch 325/500\n",
            "111/111 [==============================] - 10s 93ms/step - loss: 0.2765 - accuracy: 0.8926 - val_loss: 0.3963 - val_accuracy: 0.8422\n",
            "Epoch 326/500\n",
            "111/111 [==============================] - 10s 94ms/step - loss: 0.2705 - accuracy: 0.8950 - val_loss: 0.3748 - val_accuracy: 0.8743\n",
            "Epoch 327/500\n",
            "111/111 [==============================] - 10s 93ms/step - loss: 0.2685 - accuracy: 0.8981 - val_loss: 0.3624 - val_accuracy: 0.8797\n",
            "Epoch 328/500\n",
            "111/111 [==============================] - 10s 93ms/step - loss: 0.2694 - accuracy: 0.8947 - val_loss: 0.3698 - val_accuracy: 0.8663\n",
            "Epoch 329/500\n",
            "111/111 [==============================] - 10s 93ms/step - loss: 0.2586 - accuracy: 0.8967 - val_loss: 0.3634 - val_accuracy: 0.8583\n",
            "Epoch 330/500\n",
            "111/111 [==============================] - 10s 93ms/step - loss: 0.2671 - accuracy: 0.8977 - val_loss: 0.3636 - val_accuracy: 0.8824\n",
            "Epoch 331/500\n",
            "111/111 [==============================] - 10s 93ms/step - loss: 0.2695 - accuracy: 0.8919 - val_loss: 0.3754 - val_accuracy: 0.8690\n",
            "Epoch 332/500\n",
            "111/111 [==============================] - 10s 93ms/step - loss: 0.2692 - accuracy: 0.8932 - val_loss: 0.3574 - val_accuracy: 0.8877\n",
            "Epoch 333/500\n",
            "111/111 [==============================] - 10s 93ms/step - loss: 0.2641 - accuracy: 0.8977 - val_loss: 0.3802 - val_accuracy: 0.8743\n",
            "Epoch 334/500\n",
            "111/111 [==============================] - 10s 93ms/step - loss: 0.2640 - accuracy: 0.8950 - val_loss: 0.3573 - val_accuracy: 0.8690\n",
            "Epoch 335/500\n",
            "111/111 [==============================] - 10s 93ms/step - loss: 0.2659 - accuracy: 0.8954 - val_loss: 0.3588 - val_accuracy: 0.8797\n",
            "Epoch 336/500\n",
            "111/111 [==============================] - 10s 93ms/step - loss: 0.2690 - accuracy: 0.8956 - val_loss: 0.3709 - val_accuracy: 0.8610\n",
            "Epoch 337/500\n",
            "111/111 [==============================] - 10s 93ms/step - loss: 0.2644 - accuracy: 0.8952 - val_loss: 0.3776 - val_accuracy: 0.8797\n",
            "Epoch 338/500\n",
            "111/111 [==============================] - 10s 93ms/step - loss: 0.2548 - accuracy: 0.9008 - val_loss: 0.3570 - val_accuracy: 0.8797\n",
            "Epoch 339/500\n",
            "111/111 [==============================] - 10s 93ms/step - loss: 0.2615 - accuracy: 0.8997 - val_loss: 0.3846 - val_accuracy: 0.8583\n",
            "Epoch 340/500\n",
            "111/111 [==============================] - 10s 91ms/step - loss: 0.2689 - accuracy: 0.8936 - val_loss: 0.3728 - val_accuracy: 0.8690\n",
            "Epoch 341/500\n",
            "111/111 [==============================] - 10s 92ms/step - loss: 0.2630 - accuracy: 0.8931 - val_loss: 0.3622 - val_accuracy: 0.8636\n",
            "Epoch 342/500\n",
            "111/111 [==============================] - 10s 91ms/step - loss: 0.2590 - accuracy: 0.9002 - val_loss: 0.3711 - val_accuracy: 0.8770\n",
            "Epoch 343/500\n",
            "111/111 [==============================] - 10s 91ms/step - loss: 0.2526 - accuracy: 0.9022 - val_loss: 0.3645 - val_accuracy: 0.8877\n",
            "Epoch 344/500\n",
            "111/111 [==============================] - 10s 91ms/step - loss: 0.2564 - accuracy: 0.9015 - val_loss: 0.3595 - val_accuracy: 0.8663\n",
            "Epoch 345/500\n",
            "111/111 [==============================] - 10s 91ms/step - loss: 0.2545 - accuracy: 0.9014 - val_loss: 0.3816 - val_accuracy: 0.8636\n",
            "Epoch 346/500\n",
            "111/111 [==============================] - 10s 92ms/step - loss: 0.2525 - accuracy: 0.8985 - val_loss: 0.3761 - val_accuracy: 0.8797\n",
            "Epoch 347/500\n",
            "111/111 [==============================] - 10s 94ms/step - loss: 0.2632 - accuracy: 0.8957 - val_loss: 0.3678 - val_accuracy: 0.8824\n",
            "Epoch 348/500\n",
            "111/111 [==============================] - 10s 92ms/step - loss: 0.2549 - accuracy: 0.9005 - val_loss: 0.3602 - val_accuracy: 0.8824\n",
            "Epoch 349/500\n",
            "111/111 [==============================] - 10s 93ms/step - loss: 0.2624 - accuracy: 0.8990 - val_loss: 0.3612 - val_accuracy: 0.8743\n",
            "Epoch 350/500\n",
            "111/111 [==============================] - 10s 93ms/step - loss: 0.2578 - accuracy: 0.8988 - val_loss: 0.3648 - val_accuracy: 0.8663\n",
            "Epoch 351/500\n",
            "111/111 [==============================] - 10s 93ms/step - loss: 0.2533 - accuracy: 0.9028 - val_loss: 0.3708 - val_accuracy: 0.8556\n",
            "Epoch 352/500\n",
            "111/111 [==============================] - 10s 93ms/step - loss: 0.2507 - accuracy: 0.9038 - val_loss: 0.3553 - val_accuracy: 0.8797\n",
            "Epoch 353/500\n",
            "111/111 [==============================] - 10s 94ms/step - loss: 0.2559 - accuracy: 0.9008 - val_loss: 0.3769 - val_accuracy: 0.8663\n",
            "Epoch 354/500\n",
            "111/111 [==============================] - 10s 93ms/step - loss: 0.2599 - accuracy: 0.8998 - val_loss: 0.3895 - val_accuracy: 0.8583\n",
            "Epoch 355/500\n",
            "111/111 [==============================] - 10s 92ms/step - loss: 0.2516 - accuracy: 0.9016 - val_loss: 0.3529 - val_accuracy: 0.8663\n",
            "Epoch 356/500\n",
            "111/111 [==============================] - 10s 93ms/step - loss: 0.2607 - accuracy: 0.8997 - val_loss: 0.3521 - val_accuracy: 0.8743\n",
            "Epoch 357/500\n",
            "111/111 [==============================] - 10s 93ms/step - loss: 0.2526 - accuracy: 0.9062 - val_loss: 0.3621 - val_accuracy: 0.8717\n",
            "Epoch 358/500\n",
            "111/111 [==============================] - 10s 93ms/step - loss: 0.2535 - accuracy: 0.9064 - val_loss: 0.3607 - val_accuracy: 0.8690\n",
            "Epoch 359/500\n",
            "111/111 [==============================] - 10s 93ms/step - loss: 0.2513 - accuracy: 0.8985 - val_loss: 0.3521 - val_accuracy: 0.8824\n",
            "Epoch 360/500\n",
            "111/111 [==============================] - 10s 93ms/step - loss: 0.2528 - accuracy: 0.9011 - val_loss: 0.3575 - val_accuracy: 0.8797\n",
            "Epoch 361/500\n",
            "111/111 [==============================] - 10s 93ms/step - loss: 0.2498 - accuracy: 0.9043 - val_loss: 0.3666 - val_accuracy: 0.8690\n",
            "Epoch 362/500\n",
            "111/111 [==============================] - 10s 93ms/step - loss: 0.2521 - accuracy: 0.9047 - val_loss: 0.3576 - val_accuracy: 0.8770\n",
            "Epoch 363/500\n",
            "111/111 [==============================] - 10s 93ms/step - loss: 0.2549 - accuracy: 0.9009 - val_loss: 0.3545 - val_accuracy: 0.8690\n",
            "Epoch 364/500\n",
            "111/111 [==============================] - 10s 93ms/step - loss: 0.2505 - accuracy: 0.9036 - val_loss: 0.3533 - val_accuracy: 0.8824\n",
            "Epoch 365/500\n",
            "111/111 [==============================] - 10s 93ms/step - loss: 0.2533 - accuracy: 0.9059 - val_loss: 0.3807 - val_accuracy: 0.8770\n",
            "Epoch 366/500\n",
            "111/111 [==============================] - 10s 93ms/step - loss: 0.2510 - accuracy: 0.9022 - val_loss: 0.3610 - val_accuracy: 0.8610\n",
            "Epoch 367/500\n",
            "111/111 [==============================] - 10s 93ms/step - loss: 0.2509 - accuracy: 0.9040 - val_loss: 0.3696 - val_accuracy: 0.8797\n",
            "Epoch 368/500\n",
            "111/111 [==============================] - 10s 92ms/step - loss: 0.2514 - accuracy: 0.9007 - val_loss: 0.3489 - val_accuracy: 0.8770\n",
            "Epoch 369/500\n",
            "111/111 [==============================] - 10s 92ms/step - loss: 0.2426 - accuracy: 0.9038 - val_loss: 0.3689 - val_accuracy: 0.8717\n",
            "Epoch 370/500\n",
            "111/111 [==============================] - 10s 91ms/step - loss: 0.2568 - accuracy: 0.8997 - val_loss: 0.3701 - val_accuracy: 0.8610\n",
            "Epoch 371/500\n",
            "111/111 [==============================] - 10s 92ms/step - loss: 0.2446 - accuracy: 0.9056 - val_loss: 0.3854 - val_accuracy: 0.8663\n",
            "Epoch 372/500\n",
            "111/111 [==============================] - 10s 92ms/step - loss: 0.2455 - accuracy: 0.9047 - val_loss: 0.3754 - val_accuracy: 0.8743\n",
            "Epoch 373/500\n",
            "111/111 [==============================] - 10s 92ms/step - loss: 0.2420 - accuracy: 0.9052 - val_loss: 0.3756 - val_accuracy: 0.8743\n",
            "Epoch 374/500\n",
            "111/111 [==============================] - 10s 92ms/step - loss: 0.2367 - accuracy: 0.9126 - val_loss: 0.3600 - val_accuracy: 0.8717\n",
            "Epoch 375/500\n",
            "111/111 [==============================] - 10s 91ms/step - loss: 0.2493 - accuracy: 0.9009 - val_loss: 0.3683 - val_accuracy: 0.8717\n",
            "Epoch 376/500\n",
            "111/111 [==============================] - 10s 92ms/step - loss: 0.2419 - accuracy: 0.9052 - val_loss: 0.3639 - val_accuracy: 0.8797\n",
            "Epoch 377/500\n",
            "111/111 [==============================] - 10s 93ms/step - loss: 0.2502 - accuracy: 0.9059 - val_loss: 0.3803 - val_accuracy: 0.8743\n",
            "Epoch 378/500\n",
            "111/111 [==============================] - 10s 93ms/step - loss: 0.2534 - accuracy: 0.9014 - val_loss: 0.3488 - val_accuracy: 0.8610\n",
            "Epoch 379/500\n",
            "111/111 [==============================] - 10s 93ms/step - loss: 0.2433 - accuracy: 0.9080 - val_loss: 0.3541 - val_accuracy: 0.8743\n",
            "Epoch 380/500\n",
            "111/111 [==============================] - 10s 93ms/step - loss: 0.2469 - accuracy: 0.9071 - val_loss: 0.3508 - val_accuracy: 0.8743\n",
            "Epoch 381/500\n",
            "111/111 [==============================] - 10s 93ms/step - loss: 0.2475 - accuracy: 0.9064 - val_loss: 0.3805 - val_accuracy: 0.8610\n",
            "Epoch 382/500\n",
            "111/111 [==============================] - 10s 93ms/step - loss: 0.2518 - accuracy: 0.9019 - val_loss: 0.3603 - val_accuracy: 0.8717\n",
            "Epoch 383/500\n",
            "111/111 [==============================] - 10s 93ms/step - loss: 0.2396 - accuracy: 0.9093 - val_loss: 0.3545 - val_accuracy: 0.8824\n",
            "Epoch 384/500\n",
            "111/111 [==============================] - 10s 93ms/step - loss: 0.2360 - accuracy: 0.9064 - val_loss: 0.3509 - val_accuracy: 0.8877\n",
            "Epoch 385/500\n",
            "111/111 [==============================] - 10s 93ms/step - loss: 0.2516 - accuracy: 0.9049 - val_loss: 0.3523 - val_accuracy: 0.8824\n",
            "Epoch 386/500\n",
            "111/111 [==============================] - 10s 93ms/step - loss: 0.2459 - accuracy: 0.9046 - val_loss: 0.3700 - val_accuracy: 0.8717\n",
            "Epoch 387/500\n",
            "111/111 [==============================] - 10s 93ms/step - loss: 0.2418 - accuracy: 0.9057 - val_loss: 0.3689 - val_accuracy: 0.8877\n",
            "Epoch 388/500\n",
            "111/111 [==============================] - 10s 93ms/step - loss: 0.2355 - accuracy: 0.9119 - val_loss: 0.3592 - val_accuracy: 0.8717\n",
            "Epoch 389/500\n",
            "111/111 [==============================] - 10s 93ms/step - loss: 0.2468 - accuracy: 0.9050 - val_loss: 0.3834 - val_accuracy: 0.8717\n",
            "Epoch 390/500\n",
            "111/111 [==============================] - 10s 93ms/step - loss: 0.2458 - accuracy: 0.9033 - val_loss: 0.3676 - val_accuracy: 0.8663\n",
            "Epoch 391/500\n",
            "111/111 [==============================] - 10s 93ms/step - loss: 0.2382 - accuracy: 0.9046 - val_loss: 0.3658 - val_accuracy: 0.8663\n",
            "Epoch 392/500\n",
            "111/111 [==============================] - 10s 93ms/step - loss: 0.2367 - accuracy: 0.9074 - val_loss: 0.3629 - val_accuracy: 0.8850\n",
            "Epoch 393/500\n",
            "111/111 [==============================] - 10s 94ms/step - loss: 0.2348 - accuracy: 0.9084 - val_loss: 0.3792 - val_accuracy: 0.8636\n",
            "Epoch 394/500\n",
            "111/111 [==============================] - 10s 93ms/step - loss: 0.2384 - accuracy: 0.9040 - val_loss: 0.3610 - val_accuracy: 0.8797\n",
            "Epoch 395/500\n",
            "111/111 [==============================] - 10s 93ms/step - loss: 0.2363 - accuracy: 0.9091 - val_loss: 0.3466 - val_accuracy: 0.8877\n",
            "Epoch 396/500\n",
            "111/111 [==============================] - 10s 93ms/step - loss: 0.2292 - accuracy: 0.9112 - val_loss: 0.3826 - val_accuracy: 0.8743\n",
            "Epoch 397/500\n",
            "111/111 [==============================] - 10s 93ms/step - loss: 0.2351 - accuracy: 0.9124 - val_loss: 0.3564 - val_accuracy: 0.8583\n",
            "Epoch 398/500\n",
            "111/111 [==============================] - 10s 92ms/step - loss: 0.2367 - accuracy: 0.9105 - val_loss: 0.3499 - val_accuracy: 0.8717\n",
            "Epoch 399/500\n",
            "111/111 [==============================] - 10s 92ms/step - loss: 0.2390 - accuracy: 0.9056 - val_loss: 0.3609 - val_accuracy: 0.8797\n",
            "Epoch 400/500\n",
            "111/111 [==============================] - 10s 92ms/step - loss: 0.2322 - accuracy: 0.9090 - val_loss: 0.3679 - val_accuracy: 0.8663\n",
            "Epoch 401/500\n",
            "111/111 [==============================] - 10s 92ms/step - loss: 0.2431 - accuracy: 0.9069 - val_loss: 0.3466 - val_accuracy: 0.8717\n",
            "Epoch 402/500\n",
            "111/111 [==============================] - 10s 92ms/step - loss: 0.2453 - accuracy: 0.9074 - val_loss: 0.3592 - val_accuracy: 0.8636\n",
            "Epoch 403/500\n",
            "111/111 [==============================] - 10s 91ms/step - loss: 0.2322 - accuracy: 0.9104 - val_loss: 0.3657 - val_accuracy: 0.8930\n",
            "Epoch 404/500\n",
            "111/111 [==============================] - 10s 92ms/step - loss: 0.2317 - accuracy: 0.9105 - val_loss: 0.3559 - val_accuracy: 0.8877\n",
            "Epoch 405/500\n",
            "111/111 [==============================] - 10s 92ms/step - loss: 0.2411 - accuracy: 0.9080 - val_loss: 0.3788 - val_accuracy: 0.8743\n",
            "Epoch 406/500\n",
            "111/111 [==============================] - 10s 92ms/step - loss: 0.2324 - accuracy: 0.9105 - val_loss: 0.3598 - val_accuracy: 0.8770\n",
            "Epoch 407/500\n",
            "111/111 [==============================] - 10s 92ms/step - loss: 0.2538 - accuracy: 0.9007 - val_loss: 0.3887 - val_accuracy: 0.8503\n",
            "Epoch 408/500\n",
            "111/111 [==============================] - 10s 92ms/step - loss: 0.2416 - accuracy: 0.9056 - val_loss: 0.3546 - val_accuracy: 0.8610\n",
            "Epoch 409/500\n",
            "111/111 [==============================] - 10s 91ms/step - loss: 0.2337 - accuracy: 0.9086 - val_loss: 0.3569 - val_accuracy: 0.8797\n",
            "Epoch 410/500\n",
            "111/111 [==============================] - 10s 92ms/step - loss: 0.2389 - accuracy: 0.9064 - val_loss: 0.3696 - val_accuracy: 0.8743\n",
            "Epoch 411/500\n",
            "111/111 [==============================] - 10s 91ms/step - loss: 0.2386 - accuracy: 0.9094 - val_loss: 0.3597 - val_accuracy: 0.8583\n",
            "Epoch 412/500\n",
            "111/111 [==============================] - 10s 92ms/step - loss: 0.2311 - accuracy: 0.9115 - val_loss: 0.3500 - val_accuracy: 0.8743\n",
            "Epoch 413/500\n",
            "111/111 [==============================] - 10s 92ms/step - loss: 0.2241 - accuracy: 0.9140 - val_loss: 0.3636 - val_accuracy: 0.8717\n",
            "Epoch 414/500\n",
            "111/111 [==============================] - 10s 92ms/step - loss: 0.2266 - accuracy: 0.9140 - val_loss: 0.3663 - val_accuracy: 0.8770\n",
            "Epoch 415/500\n",
            "111/111 [==============================] - 10s 92ms/step - loss: 0.2299 - accuracy: 0.9102 - val_loss: 0.3736 - val_accuracy: 0.8797\n",
            "Epoch 416/500\n",
            "111/111 [==============================] - 10s 92ms/step - loss: 0.2283 - accuracy: 0.9140 - val_loss: 0.3706 - val_accuracy: 0.8610\n",
            "Epoch 417/500\n",
            "111/111 [==============================] - 10s 92ms/step - loss: 0.2330 - accuracy: 0.9055 - val_loss: 0.3498 - val_accuracy: 0.8824\n",
            "Epoch 418/500\n",
            "111/111 [==============================] - 10s 92ms/step - loss: 0.2235 - accuracy: 0.9124 - val_loss: 0.3487 - val_accuracy: 0.8770\n",
            "Epoch 419/500\n",
            "111/111 [==============================] - 10s 93ms/step - loss: 0.2274 - accuracy: 0.9102 - val_loss: 0.3510 - val_accuracy: 0.8797\n",
            "Epoch 420/500\n",
            "111/111 [==============================] - 10s 93ms/step - loss: 0.2280 - accuracy: 0.9126 - val_loss: 0.3708 - val_accuracy: 0.8663\n",
            "Epoch 421/500\n",
            "111/111 [==============================] - 10s 93ms/step - loss: 0.2297 - accuracy: 0.9115 - val_loss: 0.3576 - val_accuracy: 0.8770\n",
            "Epoch 422/500\n",
            "111/111 [==============================] - 10s 92ms/step - loss: 0.2314 - accuracy: 0.9098 - val_loss: 0.3545 - val_accuracy: 0.8717\n",
            "Epoch 423/500\n",
            "111/111 [==============================] - 10s 92ms/step - loss: 0.2268 - accuracy: 0.9159 - val_loss: 0.3514 - val_accuracy: 0.8610\n",
            "Epoch 424/500\n",
            "111/111 [==============================] - 10s 92ms/step - loss: 0.2287 - accuracy: 0.9129 - val_loss: 0.3466 - val_accuracy: 0.8663\n",
            "Epoch 425/500\n",
            "111/111 [==============================] - 10s 92ms/step - loss: 0.2259 - accuracy: 0.9129 - val_loss: 0.3628 - val_accuracy: 0.8824\n",
            "Epoch 426/500\n",
            "111/111 [==============================] - 10s 93ms/step - loss: 0.2293 - accuracy: 0.9078 - val_loss: 0.3525 - val_accuracy: 0.8529\n",
            "Epoch 427/500\n",
            "111/111 [==============================] - 10s 93ms/step - loss: 0.2200 - accuracy: 0.9132 - val_loss: 0.3461 - val_accuracy: 0.8797\n",
            "Epoch 428/500\n",
            "111/111 [==============================] - 10s 92ms/step - loss: 0.2289 - accuracy: 0.9124 - val_loss: 0.3624 - val_accuracy: 0.8717\n",
            "Epoch 429/500\n",
            "111/111 [==============================] - 10s 93ms/step - loss: 0.2197 - accuracy: 0.9143 - val_loss: 0.3614 - val_accuracy: 0.8717\n",
            "Epoch 430/500\n",
            "111/111 [==============================] - 10s 93ms/step - loss: 0.2306 - accuracy: 0.9081 - val_loss: 0.4189 - val_accuracy: 0.8476\n",
            "Epoch 431/500\n",
            "111/111 [==============================] - 10s 93ms/step - loss: 0.2297 - accuracy: 0.9104 - val_loss: 0.3731 - val_accuracy: 0.8717\n",
            "Epoch 432/500\n",
            "111/111 [==============================] - 10s 92ms/step - loss: 0.2308 - accuracy: 0.9097 - val_loss: 0.3790 - val_accuracy: 0.8636\n",
            "Epoch 433/500\n",
            "111/111 [==============================] - 10s 92ms/step - loss: 0.2294 - accuracy: 0.9133 - val_loss: 0.3949 - val_accuracy: 0.8636\n",
            "Epoch 434/500\n",
            "111/111 [==============================] - 10s 92ms/step - loss: 0.2248 - accuracy: 0.9145 - val_loss: 0.3489 - val_accuracy: 0.8770\n",
            "Epoch 435/500\n",
            "111/111 [==============================] - 10s 92ms/step - loss: 0.2190 - accuracy: 0.9109 - val_loss: 0.3591 - val_accuracy: 0.8743\n",
            "Epoch 436/500\n",
            "111/111 [==============================] - 10s 92ms/step - loss: 0.2250 - accuracy: 0.9160 - val_loss: 0.3562 - val_accuracy: 0.8690\n",
            "Epoch 437/500\n",
            "111/111 [==============================] - 10s 92ms/step - loss: 0.2239 - accuracy: 0.9126 - val_loss: 0.3564 - val_accuracy: 0.8663\n",
            "Epoch 438/500\n",
            "111/111 [==============================] - 10s 92ms/step - loss: 0.2272 - accuracy: 0.9108 - val_loss: 0.3507 - val_accuracy: 0.8824\n",
            "Epoch 439/500\n",
            "111/111 [==============================] - 10s 92ms/step - loss: 0.2169 - accuracy: 0.9159 - val_loss: 0.3601 - val_accuracy: 0.8797\n",
            "Epoch 440/500\n",
            "111/111 [==============================] - 10s 92ms/step - loss: 0.2125 - accuracy: 0.9207 - val_loss: 0.3533 - val_accuracy: 0.8717\n",
            "Epoch 441/500\n",
            "111/111 [==============================] - 10s 92ms/step - loss: 0.2126 - accuracy: 0.9197 - val_loss: 0.3847 - val_accuracy: 0.8663\n",
            "Epoch 442/500\n",
            "111/111 [==============================] - 10s 91ms/step - loss: 0.2356 - accuracy: 0.9081 - val_loss: 0.3481 - val_accuracy: 0.8690\n",
            "Epoch 443/500\n",
            "111/111 [==============================] - 10s 92ms/step - loss: 0.2182 - accuracy: 0.9160 - val_loss: 0.3424 - val_accuracy: 0.8797\n",
            "Epoch 444/500\n",
            "111/111 [==============================] - 10s 93ms/step - loss: 0.2222 - accuracy: 0.9100 - val_loss: 0.3684 - val_accuracy: 0.8690\n",
            "Epoch 445/500\n",
            "111/111 [==============================] - 10s 92ms/step - loss: 0.2166 - accuracy: 0.9180 - val_loss: 0.3432 - val_accuracy: 0.8797\n",
            "Epoch 446/500\n",
            "111/111 [==============================] - 10s 92ms/step - loss: 0.2235 - accuracy: 0.9122 - val_loss: 0.3617 - val_accuracy: 0.8717\n",
            "Epoch 447/500\n",
            "111/111 [==============================] - 10s 92ms/step - loss: 0.2107 - accuracy: 0.9181 - val_loss: 0.3574 - val_accuracy: 0.8610\n",
            "Epoch 448/500\n",
            "111/111 [==============================] - 10s 92ms/step - loss: 0.2268 - accuracy: 0.9114 - val_loss: 0.3406 - val_accuracy: 0.8770\n",
            "Epoch 449/500\n",
            "111/111 [==============================] - 10s 92ms/step - loss: 0.2214 - accuracy: 0.9133 - val_loss: 0.3510 - val_accuracy: 0.8690\n",
            "Epoch 450/500\n",
            "111/111 [==============================] - 10s 93ms/step - loss: 0.2195 - accuracy: 0.9167 - val_loss: 0.3638 - val_accuracy: 0.8636\n",
            "Epoch 451/500\n",
            "111/111 [==============================] - 10s 93ms/step - loss: 0.2136 - accuracy: 0.9176 - val_loss: 0.3407 - val_accuracy: 0.8770\n",
            "Epoch 452/500\n",
            "111/111 [==============================] - 10s 92ms/step - loss: 0.2192 - accuracy: 0.9139 - val_loss: 0.3653 - val_accuracy: 0.8636\n",
            "Epoch 453/500\n",
            "111/111 [==============================] - 10s 92ms/step - loss: 0.2197 - accuracy: 0.9181 - val_loss: 0.3511 - val_accuracy: 0.8850\n",
            "Epoch 454/500\n",
            "111/111 [==============================] - 10s 92ms/step - loss: 0.2163 - accuracy: 0.9181 - val_loss: 0.3513 - val_accuracy: 0.8663\n",
            "Epoch 455/500\n",
            "111/111 [==============================] - 10s 92ms/step - loss: 0.2205 - accuracy: 0.9202 - val_loss: 0.3663 - val_accuracy: 0.8690\n",
            "Epoch 456/500\n",
            "111/111 [==============================] - 10s 93ms/step - loss: 0.2187 - accuracy: 0.9159 - val_loss: 0.3433 - val_accuracy: 0.8824\n",
            "Epoch 457/500\n",
            "111/111 [==============================] - 10s 92ms/step - loss: 0.2139 - accuracy: 0.9162 - val_loss: 0.3463 - val_accuracy: 0.8663\n",
            "Epoch 458/500\n",
            "111/111 [==============================] - 10s 92ms/step - loss: 0.2198 - accuracy: 0.9157 - val_loss: 0.3496 - val_accuracy: 0.8770\n",
            "Epoch 459/500\n",
            "111/111 [==============================] - 10s 92ms/step - loss: 0.2150 - accuracy: 0.9150 - val_loss: 0.3598 - val_accuracy: 0.8717\n",
            "Epoch 460/500\n",
            "111/111 [==============================] - 10s 93ms/step - loss: 0.2209 - accuracy: 0.9183 - val_loss: 0.3655 - val_accuracy: 0.8770\n",
            "Epoch 461/500\n",
            "111/111 [==============================] - 10s 92ms/step - loss: 0.2087 - accuracy: 0.9170 - val_loss: 0.3555 - val_accuracy: 0.8717\n",
            "Epoch 462/500\n",
            "111/111 [==============================] - 10s 91ms/step - loss: 0.2190 - accuracy: 0.9177 - val_loss: 0.3789 - val_accuracy: 0.8556\n",
            "Epoch 463/500\n",
            "111/111 [==============================] - 10s 92ms/step - loss: 0.2086 - accuracy: 0.9183 - val_loss: 0.3545 - val_accuracy: 0.8690\n",
            "Epoch 464/500\n",
            "111/111 [==============================] - 10s 92ms/step - loss: 0.2081 - accuracy: 0.9224 - val_loss: 0.3603 - val_accuracy: 0.8717\n",
            "Epoch 465/500\n",
            "111/111 [==============================] - 10s 93ms/step - loss: 0.2112 - accuracy: 0.9191 - val_loss: 0.3553 - val_accuracy: 0.8717\n",
            "Epoch 466/500\n",
            "111/111 [==============================] - 10s 93ms/step - loss: 0.2109 - accuracy: 0.9188 - val_loss: 0.3450 - val_accuracy: 0.8797\n",
            "Epoch 467/500\n",
            "111/111 [==============================] - 10s 92ms/step - loss: 0.2160 - accuracy: 0.9157 - val_loss: 0.3507 - val_accuracy: 0.8797\n",
            "Epoch 468/500\n",
            "111/111 [==============================] - 10s 93ms/step - loss: 0.2093 - accuracy: 0.9215 - val_loss: 0.3492 - val_accuracy: 0.8743\n",
            "Epoch 469/500\n",
            "111/111 [==============================] - 10s 92ms/step - loss: 0.2066 - accuracy: 0.9210 - val_loss: 0.3481 - val_accuracy: 0.8824\n",
            "Epoch 470/500\n",
            "111/111 [==============================] - 10s 92ms/step - loss: 0.2130 - accuracy: 0.9153 - val_loss: 0.3578 - val_accuracy: 0.8797\n",
            "Epoch 471/500\n",
            "111/111 [==============================] - 10s 92ms/step - loss: 0.2059 - accuracy: 0.9218 - val_loss: 0.3550 - val_accuracy: 0.8690\n",
            "Epoch 472/500\n",
            "111/111 [==============================] - 10s 92ms/step - loss: 0.2107 - accuracy: 0.9202 - val_loss: 0.3546 - val_accuracy: 0.8663\n",
            "Epoch 473/500\n",
            "111/111 [==============================] - 10s 92ms/step - loss: 0.2069 - accuracy: 0.9191 - val_loss: 0.3497 - val_accuracy: 0.8743\n",
            "Epoch 474/500\n",
            "111/111 [==============================] - 10s 92ms/step - loss: 0.2184 - accuracy: 0.9179 - val_loss: 0.3545 - val_accuracy: 0.8663\n",
            "Epoch 475/500\n",
            "111/111 [==============================] - 10s 92ms/step - loss: 0.2153 - accuracy: 0.9194 - val_loss: 0.3484 - val_accuracy: 0.8663\n",
            "Epoch 476/500\n",
            "111/111 [==============================] - 10s 92ms/step - loss: 0.2025 - accuracy: 0.9236 - val_loss: 0.3617 - val_accuracy: 0.8850\n",
            "Epoch 477/500\n",
            "111/111 [==============================] - 10s 92ms/step - loss: 0.2108 - accuracy: 0.9212 - val_loss: 0.3591 - val_accuracy: 0.8663\n",
            "Epoch 478/500\n",
            "111/111 [==============================] - 10s 92ms/step - loss: 0.2063 - accuracy: 0.9218 - val_loss: 0.3464 - val_accuracy: 0.8743\n",
            "Epoch 479/500\n",
            "111/111 [==============================] - 10s 92ms/step - loss: 0.2061 - accuracy: 0.9233 - val_loss: 0.3396 - val_accuracy: 0.8850\n",
            "Epoch 480/500\n",
            "111/111 [==============================] - 10s 92ms/step - loss: 0.2178 - accuracy: 0.9191 - val_loss: 0.3923 - val_accuracy: 0.8636\n",
            "Epoch 481/500\n",
            "111/111 [==============================] - 10s 92ms/step - loss: 0.2107 - accuracy: 0.9186 - val_loss: 0.3498 - val_accuracy: 0.8824\n",
            "Epoch 482/500\n",
            "111/111 [==============================] - 10s 92ms/step - loss: 0.2135 - accuracy: 0.9179 - val_loss: 0.3655 - val_accuracy: 0.8743\n",
            "Epoch 483/500\n",
            "111/111 [==============================] - 10s 93ms/step - loss: 0.2072 - accuracy: 0.9211 - val_loss: 0.3424 - val_accuracy: 0.8824\n",
            "Epoch 484/500\n",
            "111/111 [==============================] - 10s 92ms/step - loss: 0.2084 - accuracy: 0.9183 - val_loss: 0.3499 - val_accuracy: 0.8690\n",
            "Epoch 485/500\n",
            "111/111 [==============================] - 10s 92ms/step - loss: 0.2148 - accuracy: 0.9205 - val_loss: 0.3516 - val_accuracy: 0.8636\n",
            "Epoch 486/500\n",
            "111/111 [==============================] - 10s 92ms/step - loss: 0.2115 - accuracy: 0.9191 - val_loss: 0.3478 - val_accuracy: 0.8717\n",
            "Epoch 487/500\n",
            "111/111 [==============================] - 10s 92ms/step - loss: 0.1985 - accuracy: 0.9262 - val_loss: 0.3473 - val_accuracy: 0.8743\n",
            "Epoch 488/500\n",
            "111/111 [==============================] - 10s 92ms/step - loss: 0.2091 - accuracy: 0.9210 - val_loss: 0.3757 - val_accuracy: 0.8797\n",
            "Epoch 489/500\n",
            "111/111 [==============================] - 10s 92ms/step - loss: 0.2091 - accuracy: 0.9190 - val_loss: 0.3823 - val_accuracy: 0.8610\n",
            "Epoch 490/500\n",
            "111/111 [==============================] - 10s 92ms/step - loss: 0.2007 - accuracy: 0.9207 - val_loss: 0.3560 - val_accuracy: 0.8717\n",
            "Epoch 491/500\n",
            "111/111 [==============================] - 10s 92ms/step - loss: 0.2040 - accuracy: 0.9233 - val_loss: 0.3580 - val_accuracy: 0.8663\n",
            "Epoch 492/500\n",
            "111/111 [==============================] - 10s 92ms/step - loss: 0.2019 - accuracy: 0.9214 - val_loss: 0.3603 - val_accuracy: 0.8717\n",
            "Epoch 493/500\n",
            "111/111 [==============================] - 10s 92ms/step - loss: 0.2018 - accuracy: 0.9235 - val_loss: 0.3647 - val_accuracy: 0.8770\n",
            "Epoch 494/500\n",
            "111/111 [==============================] - 10s 92ms/step - loss: 0.2055 - accuracy: 0.9201 - val_loss: 0.3609 - val_accuracy: 0.8797\n",
            "Epoch 495/500\n",
            "111/111 [==============================] - 10s 91ms/step - loss: 0.1985 - accuracy: 0.9260 - val_loss: 0.3375 - val_accuracy: 0.8743\n",
            "Epoch 496/500\n",
            "111/111 [==============================] - 10s 92ms/step - loss: 0.1979 - accuracy: 0.9222 - val_loss: 0.3555 - val_accuracy: 0.8797\n",
            "Epoch 497/500\n",
            "111/111 [==============================] - 10s 92ms/step - loss: 0.1939 - accuracy: 0.9273 - val_loss: 0.3887 - val_accuracy: 0.8770\n",
            "Epoch 498/500\n",
            "111/111 [==============================] - 10s 92ms/step - loss: 0.2062 - accuracy: 0.9215 - val_loss: 0.3631 - val_accuracy: 0.8877\n",
            "Epoch 499/500\n",
            "111/111 [==============================] - 10s 92ms/step - loss: 0.2059 - accuracy: 0.9198 - val_loss: 0.3434 - val_accuracy: 0.8797\n",
            "Epoch 500/500\n",
            "111/111 [==============================] - 10s 92ms/step - loss: 0.2070 - accuracy: 0.9214 - val_loss: 0.3569 - val_accuracy: 0.8636\n"
          ]
        }
      ],
      "source": [
        "# Fit with early stopping and model checkpoint to save the best models. \n",
        "from keras.callbacks import EarlyStopping, ModelCheckpoint\n",
        "# # patient early stopping\n",
        "es = EarlyStopping(monitor='val_loss', mode='min', verbose=1, patience=50)\n",
        "# mc = ModelCheckpoint('models/model-{epoch:03d}-{accuracy:03f}-{val_accuracy:03f}.h5', monitor='val_loss', mode='min', verbose=1, save_best_only=True)\n",
        "# # evaluate the model\n",
        "history = model.fit(X_train,y_train,epochs = 500 , batch_size=64, validation_data = (X_valid, y_valid), callbacks=[es], verbose=1)"
      ]
    },
    {
      "cell_type": "markdown",
      "source": [
        "# Save the model"
      ],
      "metadata": {
        "id": "y3s02_fh0K_J"
      }
    },
    {
      "cell_type": "markdown",
      "source": [
        "saving the trained model."
      ],
      "metadata": {
        "id": "sh6I4Nz8mbBr"
      }
    },
    {
      "cell_type": "code",
      "source": [
        "model.save('our_model.h5')"
      ],
      "metadata": {
        "id": "E-8Ll-t5y7Sz"
      },
      "execution_count": null,
      "outputs": []
    },
    {
      "cell_type": "code",
      "source": [
        "from tensorflow.keras.models import load_model\n",
        "our_model = load_model('our_model.h5')"
      ],
      "metadata": {
        "id": "Rsm1mOI9zUWP"
      },
      "execution_count": null,
      "outputs": []
    },
    {
      "cell_type": "code",
      "source": [
        "# bash\n",
        "!pip install tensorflowjs\n",
        "!tensorflowjs_converter --input_format=keras our_model.h5 ."
      ],
      "metadata": {
        "colab": {
          "base_uri": "https://localhost:8080/",
          "height": 1000
        },
        "id": "nMsZKYBxFtzq",
        "outputId": "a21b13da-4a91-414f-d20f-48e4306e04cf"
      },
      "execution_count": null,
      "outputs": [
        {
          "output_type": "stream",
          "name": "stdout",
          "text": [
            "Looking in indexes: https://pypi.org/simple, https://us-python.pkg.dev/colab-wheels/public/simple/\n",
            "Collecting tensorflowjs\n",
            "  Downloading tensorflowjs-3.20.0-py3-none-any.whl (81 kB)\n",
            "\u001b[K     |████████████████████████████████| 81 kB 5.1 MB/s \n",
            "\u001b[?25hCollecting jax>=0.3.16\n",
            "  Downloading jax-0.3.16.tar.gz (1.0 MB)\n",
            "\u001b[K     |████████████████████████████████| 1.0 MB 18.8 MB/s \n",
            "\u001b[?25hCollecting packaging~=20.9\n",
            "  Downloading packaging-20.9-py2.py3-none-any.whl (40 kB)\n",
            "\u001b[K     |████████████████████████████████| 40 kB 6.0 MB/s \n",
            "\u001b[?25hRequirement already satisfied: tensorflow-hub<0.13,>=0.7.0 in /usr/local/lib/python3.7/dist-packages (from tensorflowjs) (0.12.0)\n",
            "Collecting flax>=0.5.3\n",
            "  Downloading flax-0.6.0-py3-none-any.whl (180 kB)\n",
            "\u001b[K     |████████████████████████████████| 180 kB 53.7 MB/s \n",
            "\u001b[?25hRequirement already satisfied: tensorflow<3,>=2.1.0 in /usr/local/lib/python3.7/dist-packages (from tensorflowjs) (2.8.2+zzzcolab20220719082949)\n",
            "Requirement already satisfied: protobuf<3.20,>=3.9.2 in /usr/local/lib/python3.7/dist-packages (from tensorflowjs) (3.17.3)\n",
            "Requirement already satisfied: six<2,>=1.12.0 in /usr/local/lib/python3.7/dist-packages (from tensorflowjs) (1.15.0)\n",
            "Requirement already satisfied: importlib_resources>=5.9.0 in /usr/local/lib/python3.7/dist-packages (from tensorflowjs) (5.9.0)\n",
            "Requirement already satisfied: typing-extensions>=4.1.1 in /usr/local/lib/python3.7/dist-packages (from flax>=0.5.3->tensorflowjs) (4.1.1)\n",
            "Requirement already satisfied: PyYAML>=5.4.1 in /usr/local/lib/python3.7/dist-packages (from flax>=0.5.3->tensorflowjs) (6.0)\n",
            "Requirement already satisfied: matplotlib in /usr/local/lib/python3.7/dist-packages (from flax>=0.5.3->tensorflowjs) (3.2.2)\n",
            "Collecting optax\n",
            "  Downloading optax-0.1.3-py3-none-any.whl (145 kB)\n",
            "\u001b[K     |████████████████████████████████| 145 kB 49.9 MB/s \n",
            "\u001b[?25hRequirement already satisfied: msgpack in /usr/local/lib/python3.7/dist-packages (from flax>=0.5.3->tensorflowjs) (1.0.4)\n",
            "Collecting rich~=11.1\n",
            "  Downloading rich-11.2.0-py3-none-any.whl (217 kB)\n",
            "\u001b[K     |████████████████████████████████| 217 kB 48.5 MB/s \n",
            "\u001b[?25hRequirement already satisfied: numpy>=1.12 in /usr/local/lib/python3.7/dist-packages (from flax>=0.5.3->tensorflowjs) (1.21.6)\n",
            "Requirement already satisfied: zipp>=3.1.0 in /usr/local/lib/python3.7/dist-packages (from importlib_resources>=5.9.0->tensorflowjs) (3.8.1)\n",
            "Requirement already satisfied: absl-py in /usr/local/lib/python3.7/dist-packages (from jax>=0.3.16->tensorflowjs) (1.2.0)\n",
            "Requirement already satisfied: opt_einsum in /usr/local/lib/python3.7/dist-packages (from jax>=0.3.16->tensorflowjs) (3.3.0)\n",
            "Requirement already satisfied: scipy>=1.5 in /usr/local/lib/python3.7/dist-packages (from jax>=0.3.16->tensorflowjs) (1.7.3)\n",
            "Requirement already satisfied: etils[epath] in /usr/local/lib/python3.7/dist-packages (from jax>=0.3.16->tensorflowjs) (0.7.1)\n",
            "Requirement already satisfied: pyparsing>=2.0.2 in /usr/local/lib/python3.7/dist-packages (from packaging~=20.9->tensorflowjs) (3.0.9)\n",
            "Requirement already satisfied: pygments<3.0.0,>=2.6.0 in /usr/local/lib/python3.7/dist-packages (from rich~=11.1->flax>=0.5.3->tensorflowjs) (2.6.1)\n",
            "Collecting colorama<0.5.0,>=0.4.0\n",
            "  Downloading colorama-0.4.5-py2.py3-none-any.whl (16 kB)\n",
            "Collecting commonmark<0.10.0,>=0.9.0\n",
            "  Downloading commonmark-0.9.1-py2.py3-none-any.whl (51 kB)\n",
            "\u001b[K     |████████████████████████████████| 51 kB 6.3 MB/s \n",
            "\u001b[?25hRequirement already satisfied: tensorflow-io-gcs-filesystem>=0.23.1 in /usr/local/lib/python3.7/dist-packages (from tensorflow<3,>=2.1.0->tensorflowjs) (0.26.0)\n",
            "Requirement already satisfied: libclang>=9.0.1 in /usr/local/lib/python3.7/dist-packages (from tensorflow<3,>=2.1.0->tensorflowjs) (14.0.6)\n",
            "Requirement already satisfied: keras-preprocessing>=1.1.1 in /usr/local/lib/python3.7/dist-packages (from tensorflow<3,>=2.1.0->tensorflowjs) (1.1.2)\n",
            "Requirement already satisfied: keras<2.9,>=2.8.0rc0 in /usr/local/lib/python3.7/dist-packages (from tensorflow<3,>=2.1.0->tensorflowjs) (2.8.0)\n",
            "Requirement already satisfied: grpcio<2.0,>=1.24.3 in /usr/local/lib/python3.7/dist-packages (from tensorflow<3,>=2.1.0->tensorflowjs) (1.47.0)\n",
            "Requirement already satisfied: gast>=0.2.1 in /usr/local/lib/python3.7/dist-packages (from tensorflow<3,>=2.1.0->tensorflowjs) (0.5.3)\n",
            "Requirement already satisfied: h5py>=2.9.0 in /usr/local/lib/python3.7/dist-packages (from tensorflow<3,>=2.1.0->tensorflowjs) (3.1.0)\n",
            "Requirement already satisfied: flatbuffers>=1.12 in /usr/local/lib/python3.7/dist-packages (from tensorflow<3,>=2.1.0->tensorflowjs) (2.0)\n",
            "Requirement already satisfied: termcolor>=1.1.0 in /usr/local/lib/python3.7/dist-packages (from tensorflow<3,>=2.1.0->tensorflowjs) (1.1.0)\n",
            "Requirement already satisfied: astunparse>=1.6.0 in /usr/local/lib/python3.7/dist-packages (from tensorflow<3,>=2.1.0->tensorflowjs) (1.6.3)\n",
            "Requirement already satisfied: google-pasta>=0.1.1 in /usr/local/lib/python3.7/dist-packages (from tensorflow<3,>=2.1.0->tensorflowjs) (0.2.0)\n",
            "Requirement already satisfied: tensorboard<2.9,>=2.8 in /usr/local/lib/python3.7/dist-packages (from tensorflow<3,>=2.1.0->tensorflowjs) (2.8.0)\n",
            "Requirement already satisfied: setuptools in /usr/local/lib/python3.7/dist-packages (from tensorflow<3,>=2.1.0->tensorflowjs) (57.4.0)\n",
            "Requirement already satisfied: wrapt>=1.11.0 in /usr/local/lib/python3.7/dist-packages (from tensorflow<3,>=2.1.0->tensorflowjs) (1.14.1)\n",
            "Requirement already satisfied: tensorflow-estimator<2.9,>=2.8 in /usr/local/lib/python3.7/dist-packages (from tensorflow<3,>=2.1.0->tensorflowjs) (2.8.0)\n",
            "Requirement already satisfied: wheel<1.0,>=0.23.0 in /usr/local/lib/python3.7/dist-packages (from astunparse>=1.6.0->tensorflow<3,>=2.1.0->tensorflowjs) (0.37.1)\n",
            "Requirement already satisfied: cached-property in /usr/local/lib/python3.7/dist-packages (from h5py>=2.9.0->tensorflow<3,>=2.1.0->tensorflowjs) (1.5.2)\n",
            "Requirement already satisfied: google-auth<3,>=1.6.3 in /usr/local/lib/python3.7/dist-packages (from tensorboard<2.9,>=2.8->tensorflow<3,>=2.1.0->tensorflowjs) (1.35.0)\n",
            "Requirement already satisfied: tensorboard-plugin-wit>=1.6.0 in /usr/local/lib/python3.7/dist-packages (from tensorboard<2.9,>=2.8->tensorflow<3,>=2.1.0->tensorflowjs) (1.8.1)\n",
            "Requirement already satisfied: werkzeug>=0.11.15 in /usr/local/lib/python3.7/dist-packages (from tensorboard<2.9,>=2.8->tensorflow<3,>=2.1.0->tensorflowjs) (1.0.1)\n",
            "Requirement already satisfied: requests<3,>=2.21.0 in /usr/local/lib/python3.7/dist-packages (from tensorboard<2.9,>=2.8->tensorflow<3,>=2.1.0->tensorflowjs) (2.23.0)\n",
            "Requirement already satisfied: google-auth-oauthlib<0.5,>=0.4.1 in /usr/local/lib/python3.7/dist-packages (from tensorboard<2.9,>=2.8->tensorflow<3,>=2.1.0->tensorflowjs) (0.4.6)\n",
            "Requirement already satisfied: tensorboard-data-server<0.7.0,>=0.6.0 in /usr/local/lib/python3.7/dist-packages (from tensorboard<2.9,>=2.8->tensorflow<3,>=2.1.0->tensorflowjs) (0.6.1)\n",
            "Requirement already satisfied: markdown>=2.6.8 in /usr/local/lib/python3.7/dist-packages (from tensorboard<2.9,>=2.8->tensorflow<3,>=2.1.0->tensorflowjs) (3.4.1)\n",
            "Requirement already satisfied: cachetools<5.0,>=2.0.0 in /usr/local/lib/python3.7/dist-packages (from google-auth<3,>=1.6.3->tensorboard<2.9,>=2.8->tensorflow<3,>=2.1.0->tensorflowjs) (4.2.4)\n",
            "Requirement already satisfied: pyasn1-modules>=0.2.1 in /usr/local/lib/python3.7/dist-packages (from google-auth<3,>=1.6.3->tensorboard<2.9,>=2.8->tensorflow<3,>=2.1.0->tensorflowjs) (0.2.8)\n",
            "Requirement already satisfied: rsa<5,>=3.1.4 in /usr/local/lib/python3.7/dist-packages (from google-auth<3,>=1.6.3->tensorboard<2.9,>=2.8->tensorflow<3,>=2.1.0->tensorflowjs) (4.9)\n",
            "Requirement already satisfied: requests-oauthlib>=0.7.0 in /usr/local/lib/python3.7/dist-packages (from google-auth-oauthlib<0.5,>=0.4.1->tensorboard<2.9,>=2.8->tensorflow<3,>=2.1.0->tensorflowjs) (1.3.1)\n",
            "Requirement already satisfied: importlib-metadata>=4.4 in /usr/local/lib/python3.7/dist-packages (from markdown>=2.6.8->tensorboard<2.9,>=2.8->tensorflow<3,>=2.1.0->tensorflowjs) (4.12.0)\n",
            "Requirement already satisfied: pyasn1<0.5.0,>=0.4.6 in /usr/local/lib/python3.7/dist-packages (from pyasn1-modules>=0.2.1->google-auth<3,>=1.6.3->tensorboard<2.9,>=2.8->tensorflow<3,>=2.1.0->tensorflowjs) (0.4.8)\n",
            "Requirement already satisfied: certifi>=2017.4.17 in /usr/local/lib/python3.7/dist-packages (from requests<3,>=2.21.0->tensorboard<2.9,>=2.8->tensorflow<3,>=2.1.0->tensorflowjs) (2022.6.15)\n",
            "Requirement already satisfied: chardet<4,>=3.0.2 in /usr/local/lib/python3.7/dist-packages (from requests<3,>=2.21.0->tensorboard<2.9,>=2.8->tensorflow<3,>=2.1.0->tensorflowjs) (3.0.4)\n",
            "Requirement already satisfied: urllib3!=1.25.0,!=1.25.1,<1.26,>=1.21.1 in /usr/local/lib/python3.7/dist-packages (from requests<3,>=2.21.0->tensorboard<2.9,>=2.8->tensorflow<3,>=2.1.0->tensorflowjs) (1.24.3)\n",
            "Requirement already satisfied: idna<3,>=2.5 in /usr/local/lib/python3.7/dist-packages (from requests<3,>=2.21.0->tensorboard<2.9,>=2.8->tensorflow<3,>=2.1.0->tensorflowjs) (2.10)\n",
            "Requirement already satisfied: oauthlib>=3.0.0 in /usr/local/lib/python3.7/dist-packages (from requests-oauthlib>=0.7.0->google-auth-oauthlib<0.5,>=0.4.1->tensorboard<2.9,>=2.8->tensorflow<3,>=2.1.0->tensorflowjs) (3.2.0)\n",
            "Requirement already satisfied: kiwisolver>=1.0.1 in /usr/local/lib/python3.7/dist-packages (from matplotlib->flax>=0.5.3->tensorflowjs) (1.4.4)\n",
            "Requirement already satisfied: cycler>=0.10 in /usr/local/lib/python3.7/dist-packages (from matplotlib->flax>=0.5.3->tensorflowjs) (0.11.0)\n",
            "Requirement already satisfied: python-dateutil>=2.1 in /usr/local/lib/python3.7/dist-packages (from matplotlib->flax>=0.5.3->tensorflowjs) (2.8.2)\n",
            "Collecting chex>=0.0.4\n",
            "  Downloading chex-0.1.4-py3-none-any.whl (76 kB)\n",
            "\u001b[K     |████████████████████████████████| 76 kB 6.1 MB/s \n",
            "\u001b[?25hRequirement already satisfied: jaxlib>=0.1.37 in /usr/local/lib/python3.7/dist-packages (from optax->flax>=0.5.3->tensorflowjs) (0.3.14+cuda11.cudnn805)\n",
            "Requirement already satisfied: toolz>=0.9.0 in /usr/local/lib/python3.7/dist-packages (from chex>=0.0.4->optax->flax>=0.5.3->tensorflowjs) (0.12.0)\n",
            "Requirement already satisfied: dm-tree>=0.1.5 in /usr/local/lib/python3.7/dist-packages (from chex>=0.0.4->optax->flax>=0.5.3->tensorflowjs) (0.1.7)\n",
            "Building wheels for collected packages: jax\n",
            "  Building wheel for jax (setup.py) ... \u001b[?25l\u001b[?25hdone\n",
            "  Created wheel for jax: filename=jax-0.3.16-py3-none-any.whl size=1197715 sha256=684931b1dfaf72f580494039166d86f5505d7dab9b116b0922ce8b22086b780f\n",
            "  Stored in directory: /root/.cache/pip/wheels/b9/0d/a2/2091279bf29b90a2211a271f6f006ef13a656211a9e69ba1e3\n",
            "Successfully built jax\n",
            "Installing collected packages: jax, commonmark, colorama, chex, rich, optax, packaging, flax, tensorflowjs\n",
            "  Attempting uninstall: jax\n",
            "    Found existing installation: jax 0.3.14\n",
            "    Uninstalling jax-0.3.14:\n",
            "      Successfully uninstalled jax-0.3.14\n",
            "  Attempting uninstall: packaging\n",
            "    Found existing installation: packaging 21.3\n",
            "    Uninstalling packaging-21.3:\n",
            "      Successfully uninstalled packaging-21.3\n",
            "Successfully installed chex-0.1.4 colorama-0.4.5 commonmark-0.9.1 flax-0.6.0 jax-0.3.16 optax-0.1.3 packaging-20.9 rich-11.2.0 tensorflowjs-3.20.0\n"
          ]
        },
        {
          "output_type": "display_data",
          "data": {
            "application/vnd.colab-display-data+json": {
              "pip_warning": {
                "packages": [
                  "jax",
                  "packaging"
                ]
              }
            }
          },
          "metadata": {}
        }
      ]
    },
    {
      "cell_type": "code",
      "source": [
        "x = X_test[0]\n",
        "x = np.expand_dims(x, axis=0)\n",
        "x.shape"
      ],
      "metadata": {
        "colab": {
          "base_uri": "https://localhost:8080/"
        },
        "id": "LUZJdtVhFEMn",
        "outputId": "1681322d-228e-4c36-f55d-c4fa9ba353be"
      },
      "execution_count": null,
      "outputs": [
        {
          "output_type": "execute_result",
          "data": {
            "text/plain": [
              "(1, 128, 128, 3)"
            ]
          },
          "metadata": {},
          "execution_count": 10
        }
      ]
    },
    {
      "cell_type": "code",
      "source": [
        "our_model.predict(x)"
      ],
      "metadata": {
        "colab": {
          "base_uri": "https://localhost:8080/"
        },
        "id": "OqO8eCN6HSyM",
        "outputId": "70c39ece-5daf-414c-de39-062ce947d5da"
      },
      "execution_count": null,
      "outputs": [
        {
          "output_type": "execute_result",
          "data": {
            "text/plain": [
              "array([[0.53091115, 0.46410188, 0.00498694]], dtype=float32)"
            ]
          },
          "metadata": {},
          "execution_count": 18
        }
      ]
    },
    {
      "cell_type": "markdown",
      "source": [
        "# Evaluating the model"
      ],
      "metadata": {
        "id": "zJYeDX0wMHBW"
      }
    },
    {
      "cell_type": "markdown",
      "source": [
        "using the test set to evaluate the model\n",
        "\n"
      ],
      "metadata": {
        "id": "cf573CCwmRmE"
      }
    },
    {
      "cell_type": "code",
      "source": [
        "test_loss, test_accuracy = our_model.evaluate(X_test, y_test)\n",
        "print(f'Test loss is {test_loss:0.3} and test accuracy is {test_accuracy:0.1%}')"
      ],
      "metadata": {
        "colab": {
          "base_uri": "https://localhost:8080/"
        },
        "id": "IGHnHMBXMKjD",
        "outputId": "bce67b95-0b3c-4e10-cb03-17fca1f8111c"
      },
      "execution_count": null,
      "outputs": [
        {
          "output_type": "stream",
          "name": "stderr",
          "text": [
            "/usr/local/lib/python3.7/dist-packages/tensorflow/python/util/dispatch.py:1082: UserWarning: \"`sparse_categorical_crossentropy` received `from_logits=True`, but the `output` argument was produced by a sigmoid or softmax activation and thus does not represent logits. Was this intended?\"\n",
            "  return dispatch_target(*args, **kwargs)\n"
          ]
        },
        {
          "output_type": "stream",
          "name": "stdout",
          "text": [
            "70/70 [==============================] - 42s 598ms/step - loss: 0.3645 - accuracy: 0.8643\n",
            "Test loss is 0.365 and test accuracy is 86.4%\n"
          ]
        }
      ]
    },
    {
      "cell_type": "markdown",
      "source": [
        "# Confusion matrix"
      ],
      "metadata": {
        "id": "QUYBE695rUu_"
      }
    },
    {
      "cell_type": "code",
      "source": [
        "predict_x=our_model.predict(X_test) \n",
        "classes_x=np.argmax(predict_x,axis=1)\n",
        "conf_matrix = confusion_matrix(y_true=y_test, y_pred=classes_x)"
      ],
      "metadata": {
        "id": "P7TI-kTCrXct"
      },
      "execution_count": null,
      "outputs": []
    },
    {
      "cell_type": "code",
      "source": [
        "plt.figure(figsize=(7,7), dpi=95)\n",
        "plt.imshow(conf_matrix, cmap=plt.cm.Greens)\n",
        "\n",
        "plt.title('Confusion Matrix', fontsize=16)\n",
        "plt.ylabel('Actual Labels', fontsize=12)\n",
        "plt.xlabel('Predicted Labels', fontsize=12)\n",
        "\n",
        "tick_marks = np.arange(NR_CLASSES)\n",
        "plt.yticks(tick_marks, LABEL_NAMES)\n",
        "plt.xticks(tick_marks, LABEL_NAMES)\n",
        "\n",
        "plt.colorbar()\n",
        "\n",
        "for i, j in itertools.product(range(nr_rows), range(nr_cols)):\n",
        "    plt.text(j, i, conf_matrix[i, j], horizontalalignment='center',\n",
        "            color='white' if conf_matrix[i, j] > conf_matrix.max()/2 else 'black')\n",
        "    \n",
        "\n",
        "plt.show()"
      ],
      "metadata": {
        "colab": {
          "base_uri": "https://localhost:8080/",
          "height": 538
        },
        "id": "YY-APS1Js307",
        "outputId": "de2bb5c2-d131-41b6-b544-0d35befee188"
      },
      "execution_count": null,
      "outputs": [
        {
          "output_type": "display_data",
          "data": {
            "text/plain": [
              "<Figure size 665x665 with 2 Axes>"
            ],
            "image/png": "[encoded data removed]"
          },
          "metadata": {
            "needs_background": "light"
          }
        }
      ]
    },
    {
      "cell_type": "code",
      "source": [
        "recall = np.diag(conf_matrix) / np.sum(conf_matrix, axis=1)\n",
        "recall"
      ],
      "metadata": {
        "colab": {
          "base_uri": "https://localhost:8080/"
        },
        "id": "7r9W1_ubu_iI",
        "outputId": "821f59ed-3f8f-4d90-bd85-e5251d5aa92a"
      },
      "execution_count": null,
      "outputs": [
        {
          "output_type": "execute_result",
          "data": {
            "text/plain": [
              "array([0.632     , 0.818     , 0.97049847])"
            ]
          },
          "metadata": {},
          "execution_count": 28
        }
      ]
    },
    {
      "cell_type": "code",
      "source": [
        "precision = np.diag(conf_matrix) / np.sum(conf_matrix, axis=0)\n",
        "precision"
      ],
      "metadata": {
        "colab": {
          "base_uri": "https://localhost:8080/"
        },
        "id": "VvM8yVpJvCZd",
        "outputId": "09a96556-4cff-437f-dfaa-237a831f04a5"
      },
      "execution_count": null,
      "outputs": [
        {
          "output_type": "execute_result",
          "data": {
            "text/plain": [
              "array([0.56630824, 0.92743764, 0.88992537])"
            ]
          },
          "metadata": {},
          "execution_count": 29
        }
      ]
    },
    {
      "cell_type": "code",
      "source": [
        "avg_recall = np.mean(recall)\n",
        "print(f'Model recall score is {avg_recall:.2%}')"
      ],
      "metadata": {
        "colab": {
          "base_uri": "https://localhost:8080/"
        },
        "id": "UC_iMBM3vEeT",
        "outputId": "0fee5ded-2647-4983-de83-df92cc4d434c"
      },
      "execution_count": null,
      "outputs": [
        {
          "output_type": "stream",
          "name": "stdout",
          "text": [
            "Model recall score is 80.68%\n"
          ]
        }
      ]
    },
    {
      "cell_type": "code",
      "source": [
        "avg_precision = np.mean(precision)\n",
        "print(f'Model precision score is {avg_precision:.2%}')"
      ],
      "metadata": {
        "colab": {
          "base_uri": "https://localhost:8080/"
        },
        "id": "ajEw4SP_vIHP",
        "outputId": "d72f503e-8664-4c65-bbe4-966d5331a352"
      },
      "execution_count": null,
      "outputs": [
        {
          "output_type": "stream",
          "name": "stdout",
          "text": [
            "Model precision score is 79.46%\n"
          ]
        }
      ]
    },
    {
      "cell_type": "markdown",
      "source": [
        "#Using The Model"
      ],
      "metadata": {
        "id": "RodgJ3Z4mykD"
      }
    },
    {
      "cell_type": "markdown",
      "source": [
        "we made a simple web app the utilizes our trained model for demonstration purposes. the app takes an image and outputs the prediction and accuracy of the prediction.\n",
        "\n",
        "https://thawing-waters-69155.herokuapp.com/"
      ],
      "metadata": {
        "id": "kZB6A3Irm9fL"
      }
    }
  ],
  "metadata": {
    "kernelspec": {
      "display_name": "Python 3.9.12 ('myenv')",
      "language": "python",
      "name": "python3"
    },
    "language_info": {
      "codemirror_mode": {
        "name": "ipython",
        "version": 3
      },
      "file_extension": ".py",
      "mimetype": "text/x-python",
      "name": "python",
      "nbconvert_exporter": "python",
      "pygments_lexer": "ipython3",
      "version": "3.9.12"
    },
    "orig_nbformat": 4,
    "vscode": {
      "interpreter": {
        "hash": "ac23ecdd80269095adc6a2ba59e4ea080ae3f6bc246efa66ec15e8803d07e1ff"
      }
    },
    "colab": {
      "provenance": [],
      "collapsed_sections": [],
      "include_colab_link": true
    },
    "gpuClass": "standard"
  },
  "nbformat": 4,
  "nbformat_minor": 0
}